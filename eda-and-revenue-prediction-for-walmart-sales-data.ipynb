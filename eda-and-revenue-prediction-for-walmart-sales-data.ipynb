{
 "cells": [
  {
   "cell_type": "code",
   "execution_count": 1,
   "id": "6ac0a7b0",
   "metadata": {
    "_cell_guid": "b1076dfc-b9ad-4769-8c92-a6c4dae69d19",
    "_uuid": "8f2839f25d086af736a60e9eeb907d3b93b6e0e5",
    "execution": {
     "iopub.execute_input": "2024-08-07T21:07:18.569563Z",
     "iopub.status.busy": "2024-08-07T21:07:18.569074Z",
     "iopub.status.idle": "2024-08-07T21:07:21.081287Z",
     "shell.execute_reply": "2024-08-07T21:07:21.079717Z"
    },
    "papermill": {
     "duration": 2.535451,
     "end_time": "2024-08-07T21:07:21.084226",
     "exception": false,
     "start_time": "2024-08-07T21:07:18.548775",
     "status": "completed"
    },
    "tags": []
   },
   "outputs": [
    {
     "name": "stdout",
     "output_type": "stream",
     "text": [
      "/kaggle/input/walmart-sales/Walmart_Sales.csv\n"
     ]
    }
   ],
   "source": [
    "import numpy as np # linear algebra\n",
    "import pandas as pd # data processing, CSV file I/O (e.g. pd.read_csv)\n",
    "import matplotlib.pyplot as plt\n",
    "import seaborn as sns\n",
    "\n",
    "import os\n",
    "for dirname, _, filenames in os.walk('/kaggle/input'):\n",
    "    for filename in filenames:\n",
    "        print(os.path.join(dirname, filename))\n",
    "\n"
   ]
  },
  {
   "cell_type": "markdown",
   "id": "27780f59",
   "metadata": {
    "papermill": {
     "duration": 0.017642,
     "end_time": "2024-08-07T21:07:21.119941",
     "exception": false,
     "start_time": "2024-08-07T21:07:21.102299",
     "status": "completed"
    },
    "tags": []
   },
   "source": [
    "# Part 1: Data Exploration\n",
    "The data exploration will focus on understanding the structure, trends, and patterns within the dataset. The following questions will guide this exploration:\n",
    "\n",
    "1. Data Understanding:\n",
    "\n",
    "    What are the key attributes in the dataset?\n",
    "    Are there any missing values or anomalies in the dataset?\n",
    "    What is the distribution of sales?\n",
    "    \n",
    "2. Sales Analysis:\n",
    "\n",
    "    What are the overall sales trends over time (e.g. monthly, yearly)?\n",
    "    How do sales vary across different stores?\n",
    "\n",
    "3. Seasonality and Trends:\n",
    "\n",
    "    Are there any seasonal patterns in the sales data?\n",
    "    What are the peak sales periods during the year?\n",
    "\n",
    "4. Impact of Promotions:\n",
    "\n",
    "    How do promotions (e.g., holiday sales) affect sales?\n",
    "    Are there any noticeable spikes in sales during specific promotional periods?\n",
    "\n",
    "5. Correlation Analysis:\n",
    "\n",
    "    What is the correlation between sales and other variables (e.g., temperature, fuel price)?\n",
    "    Are there any strong predictors of sales within the dataset?"
   ]
  },
  {
   "cell_type": "markdown",
   "id": "3c47363c",
   "metadata": {
    "papermill": {
     "duration": 0.017408,
     "end_time": "2024-08-07T21:07:21.155028",
     "exception": false,
     "start_time": "2024-08-07T21:07:21.137620",
     "status": "completed"
    },
    "tags": []
   },
   "source": [
    "## Loading and Understanding the data."
   ]
  },
  {
   "cell_type": "code",
   "execution_count": 2,
   "id": "bad4bf58",
   "metadata": {
    "execution": {
     "iopub.execute_input": "2024-08-07T21:07:21.193559Z",
     "iopub.status.busy": "2024-08-07T21:07:21.193005Z",
     "iopub.status.idle": "2024-08-07T21:07:21.252757Z",
     "shell.execute_reply": "2024-08-07T21:07:21.251485Z"
    },
    "papermill": {
     "duration": 0.082383,
     "end_time": "2024-08-07T21:07:21.255363",
     "exception": false,
     "start_time": "2024-08-07T21:07:21.172980",
     "status": "completed"
    },
    "tags": []
   },
   "outputs": [
    {
     "data": {
      "text/html": [
       "<div>\n",
       "<style scoped>\n",
       "    .dataframe tbody tr th:only-of-type {\n",
       "        vertical-align: middle;\n",
       "    }\n",
       "\n",
       "    .dataframe tbody tr th {\n",
       "        vertical-align: top;\n",
       "    }\n",
       "\n",
       "    .dataframe thead th {\n",
       "        text-align: right;\n",
       "    }\n",
       "</style>\n",
       "<table border=\"1\" class=\"dataframe\">\n",
       "  <thead>\n",
       "    <tr style=\"text-align: right;\">\n",
       "      <th></th>\n",
       "      <th>Store</th>\n",
       "      <th>Date</th>\n",
       "      <th>Weekly_Sales</th>\n",
       "      <th>Holiday_Flag</th>\n",
       "      <th>Temperature</th>\n",
       "      <th>Fuel_Price</th>\n",
       "      <th>CPI</th>\n",
       "      <th>Unemployment</th>\n",
       "    </tr>\n",
       "  </thead>\n",
       "  <tbody>\n",
       "    <tr>\n",
       "      <th>0</th>\n",
       "      <td>1</td>\n",
       "      <td>05-02-2010</td>\n",
       "      <td>1643690.90</td>\n",
       "      <td>0</td>\n",
       "      <td>42.31</td>\n",
       "      <td>2.572</td>\n",
       "      <td>211.096358</td>\n",
       "      <td>8.106</td>\n",
       "    </tr>\n",
       "    <tr>\n",
       "      <th>1</th>\n",
       "      <td>1</td>\n",
       "      <td>12-02-2010</td>\n",
       "      <td>1641957.44</td>\n",
       "      <td>1</td>\n",
       "      <td>38.51</td>\n",
       "      <td>2.548</td>\n",
       "      <td>211.242170</td>\n",
       "      <td>8.106</td>\n",
       "    </tr>\n",
       "    <tr>\n",
       "      <th>2</th>\n",
       "      <td>1</td>\n",
       "      <td>19-02-2010</td>\n",
       "      <td>1611968.17</td>\n",
       "      <td>0</td>\n",
       "      <td>39.93</td>\n",
       "      <td>2.514</td>\n",
       "      <td>211.289143</td>\n",
       "      <td>8.106</td>\n",
       "    </tr>\n",
       "    <tr>\n",
       "      <th>3</th>\n",
       "      <td>1</td>\n",
       "      <td>26-02-2010</td>\n",
       "      <td>1409727.59</td>\n",
       "      <td>0</td>\n",
       "      <td>46.63</td>\n",
       "      <td>2.561</td>\n",
       "      <td>211.319643</td>\n",
       "      <td>8.106</td>\n",
       "    </tr>\n",
       "    <tr>\n",
       "      <th>4</th>\n",
       "      <td>1</td>\n",
       "      <td>05-03-2010</td>\n",
       "      <td>1554806.68</td>\n",
       "      <td>0</td>\n",
       "      <td>46.50</td>\n",
       "      <td>2.625</td>\n",
       "      <td>211.350143</td>\n",
       "      <td>8.106</td>\n",
       "    </tr>\n",
       "  </tbody>\n",
       "</table>\n",
       "</div>"
      ],
      "text/plain": [
       "   Store        Date  Weekly_Sales  Holiday_Flag  Temperature  Fuel_Price  \\\n",
       "0      1  05-02-2010    1643690.90             0        42.31       2.572   \n",
       "1      1  12-02-2010    1641957.44             1        38.51       2.548   \n",
       "2      1  19-02-2010    1611968.17             0        39.93       2.514   \n",
       "3      1  26-02-2010    1409727.59             0        46.63       2.561   \n",
       "4      1  05-03-2010    1554806.68             0        46.50       2.625   \n",
       "\n",
       "          CPI  Unemployment  \n",
       "0  211.096358         8.106  \n",
       "1  211.242170         8.106  \n",
       "2  211.289143         8.106  \n",
       "3  211.319643         8.106  \n",
       "4  211.350143         8.106  "
      ]
     },
     "execution_count": 2,
     "metadata": {},
     "output_type": "execute_result"
    }
   ],
   "source": [
    "df = pd.read_csv(r\"/kaggle/input/walmart-sales/Walmart_Sales.csv\")\n",
    "\n",
    "df.head()"
   ]
  },
  {
   "cell_type": "code",
   "execution_count": 3,
   "id": "e560719f",
   "metadata": {
    "execution": {
     "iopub.execute_input": "2024-08-07T21:07:21.295223Z",
     "iopub.status.busy": "2024-08-07T21:07:21.294807Z",
     "iopub.status.idle": "2024-08-07T21:07:21.318745Z",
     "shell.execute_reply": "2024-08-07T21:07:21.317392Z"
    },
    "papermill": {
     "duration": 0.046423,
     "end_time": "2024-08-07T21:07:21.321451",
     "exception": false,
     "start_time": "2024-08-07T21:07:21.275028",
     "status": "completed"
    },
    "tags": []
   },
   "outputs": [
    {
     "name": "stdout",
     "output_type": "stream",
     "text": [
      "<class 'pandas.core.frame.DataFrame'>\n",
      "RangeIndex: 6435 entries, 0 to 6434\n",
      "Data columns (total 8 columns):\n",
      " #   Column        Non-Null Count  Dtype  \n",
      "---  ------        --------------  -----  \n",
      " 0   Store         6435 non-null   int64  \n",
      " 1   Date          6435 non-null   object \n",
      " 2   Weekly_Sales  6435 non-null   float64\n",
      " 3   Holiday_Flag  6435 non-null   int64  \n",
      " 4   Temperature   6435 non-null   float64\n",
      " 5   Fuel_Price    6435 non-null   float64\n",
      " 6   CPI           6435 non-null   float64\n",
      " 7   Unemployment  6435 non-null   float64\n",
      "dtypes: float64(5), int64(2), object(1)\n",
      "memory usage: 402.3+ KB\n"
     ]
    }
   ],
   "source": [
    "df.info()"
   ]
  },
  {
   "cell_type": "code",
   "execution_count": 4,
   "id": "30ed20fc",
   "metadata": {
    "execution": {
     "iopub.execute_input": "2024-08-07T21:07:21.360539Z",
     "iopub.status.busy": "2024-08-07T21:07:21.360104Z",
     "iopub.status.idle": "2024-08-07T21:07:21.398521Z",
     "shell.execute_reply": "2024-08-07T21:07:21.397410Z"
    },
    "papermill": {
     "duration": 0.060461,
     "end_time": "2024-08-07T21:07:21.401112",
     "exception": false,
     "start_time": "2024-08-07T21:07:21.340651",
     "status": "completed"
    },
    "tags": []
   },
   "outputs": [
    {
     "data": {
      "text/html": [
       "<div>\n",
       "<style scoped>\n",
       "    .dataframe tbody tr th:only-of-type {\n",
       "        vertical-align: middle;\n",
       "    }\n",
       "\n",
       "    .dataframe tbody tr th {\n",
       "        vertical-align: top;\n",
       "    }\n",
       "\n",
       "    .dataframe thead th {\n",
       "        text-align: right;\n",
       "    }\n",
       "</style>\n",
       "<table border=\"1\" class=\"dataframe\">\n",
       "  <thead>\n",
       "    <tr style=\"text-align: right;\">\n",
       "      <th></th>\n",
       "      <th>count</th>\n",
       "      <th>mean</th>\n",
       "      <th>std</th>\n",
       "      <th>min</th>\n",
       "      <th>25%</th>\n",
       "      <th>50%</th>\n",
       "      <th>75%</th>\n",
       "      <th>max</th>\n",
       "    </tr>\n",
       "  </thead>\n",
       "  <tbody>\n",
       "    <tr>\n",
       "      <th>Store</th>\n",
       "      <td>6435.0</td>\n",
       "      <td>2.300000e+01</td>\n",
       "      <td>12.988182</td>\n",
       "      <td>1.000</td>\n",
       "      <td>12.000</td>\n",
       "      <td>23.000000</td>\n",
       "      <td>3.400000e+01</td>\n",
       "      <td>4.500000e+01</td>\n",
       "    </tr>\n",
       "    <tr>\n",
       "      <th>Weekly_Sales</th>\n",
       "      <td>6435.0</td>\n",
       "      <td>1.046965e+06</td>\n",
       "      <td>564366.622054</td>\n",
       "      <td>209986.250</td>\n",
       "      <td>553350.105</td>\n",
       "      <td>960746.040000</td>\n",
       "      <td>1.420159e+06</td>\n",
       "      <td>3.818686e+06</td>\n",
       "    </tr>\n",
       "    <tr>\n",
       "      <th>Holiday_Flag</th>\n",
       "      <td>6435.0</td>\n",
       "      <td>6.993007e-02</td>\n",
       "      <td>0.255049</td>\n",
       "      <td>0.000</td>\n",
       "      <td>0.000</td>\n",
       "      <td>0.000000</td>\n",
       "      <td>0.000000e+00</td>\n",
       "      <td>1.000000e+00</td>\n",
       "    </tr>\n",
       "    <tr>\n",
       "      <th>Temperature</th>\n",
       "      <td>6435.0</td>\n",
       "      <td>6.066378e+01</td>\n",
       "      <td>18.444933</td>\n",
       "      <td>-2.060</td>\n",
       "      <td>47.460</td>\n",
       "      <td>62.670000</td>\n",
       "      <td>7.494000e+01</td>\n",
       "      <td>1.001400e+02</td>\n",
       "    </tr>\n",
       "    <tr>\n",
       "      <th>Fuel_Price</th>\n",
       "      <td>6435.0</td>\n",
       "      <td>3.358607e+00</td>\n",
       "      <td>0.459020</td>\n",
       "      <td>2.472</td>\n",
       "      <td>2.933</td>\n",
       "      <td>3.445000</td>\n",
       "      <td>3.735000e+00</td>\n",
       "      <td>4.468000e+00</td>\n",
       "    </tr>\n",
       "    <tr>\n",
       "      <th>CPI</th>\n",
       "      <td>6435.0</td>\n",
       "      <td>1.715784e+02</td>\n",
       "      <td>39.356712</td>\n",
       "      <td>126.064</td>\n",
       "      <td>131.735</td>\n",
       "      <td>182.616521</td>\n",
       "      <td>2.127433e+02</td>\n",
       "      <td>2.272328e+02</td>\n",
       "    </tr>\n",
       "    <tr>\n",
       "      <th>Unemployment</th>\n",
       "      <td>6435.0</td>\n",
       "      <td>7.999151e+00</td>\n",
       "      <td>1.875885</td>\n",
       "      <td>3.879</td>\n",
       "      <td>6.891</td>\n",
       "      <td>7.874000</td>\n",
       "      <td>8.622000e+00</td>\n",
       "      <td>1.431300e+01</td>\n",
       "    </tr>\n",
       "  </tbody>\n",
       "</table>\n",
       "</div>"
      ],
      "text/plain": [
       "               count          mean            std         min         25%  \\\n",
       "Store         6435.0  2.300000e+01      12.988182       1.000      12.000   \n",
       "Weekly_Sales  6435.0  1.046965e+06  564366.622054  209986.250  553350.105   \n",
       "Holiday_Flag  6435.0  6.993007e-02       0.255049       0.000       0.000   \n",
       "Temperature   6435.0  6.066378e+01      18.444933      -2.060      47.460   \n",
       "Fuel_Price    6435.0  3.358607e+00       0.459020       2.472       2.933   \n",
       "CPI           6435.0  1.715784e+02      39.356712     126.064     131.735   \n",
       "Unemployment  6435.0  7.999151e+00       1.875885       3.879       6.891   \n",
       "\n",
       "                        50%           75%           max  \n",
       "Store             23.000000  3.400000e+01  4.500000e+01  \n",
       "Weekly_Sales  960746.040000  1.420159e+06  3.818686e+06  \n",
       "Holiday_Flag       0.000000  0.000000e+00  1.000000e+00  \n",
       "Temperature       62.670000  7.494000e+01  1.001400e+02  \n",
       "Fuel_Price         3.445000  3.735000e+00  4.468000e+00  \n",
       "CPI              182.616521  2.127433e+02  2.272328e+02  \n",
       "Unemployment       7.874000  8.622000e+00  1.431300e+01  "
      ]
     },
     "execution_count": 4,
     "metadata": {},
     "output_type": "execute_result"
    }
   ],
   "source": [
    "df.describe().T"
   ]
  },
  {
   "cell_type": "markdown",
   "id": "0e765464",
   "metadata": {
    "papermill": {
     "duration": 0.018227,
     "end_time": "2024-08-07T21:07:21.438187",
     "exception": false,
     "start_time": "2024-08-07T21:07:21.419960",
     "status": "completed"
    },
    "tags": []
   },
   "source": [
    "## Checking for and removing missing/duplicate values."
   ]
  },
  {
   "cell_type": "code",
   "execution_count": 5,
   "id": "87a3e92c",
   "metadata": {
    "execution": {
     "iopub.execute_input": "2024-08-07T21:07:21.477524Z",
     "iopub.status.busy": "2024-08-07T21:07:21.477072Z",
     "iopub.status.idle": "2024-08-07T21:07:21.487930Z",
     "shell.execute_reply": "2024-08-07T21:07:21.486796Z"
    },
    "papermill": {
     "duration": 0.033824,
     "end_time": "2024-08-07T21:07:21.490539",
     "exception": false,
     "start_time": "2024-08-07T21:07:21.456715",
     "status": "completed"
    },
    "tags": []
   },
   "outputs": [
    {
     "data": {
      "text/plain": [
       "Store           0\n",
       "Date            0\n",
       "Weekly_Sales    0\n",
       "Holiday_Flag    0\n",
       "Temperature     0\n",
       "Fuel_Price      0\n",
       "CPI             0\n",
       "Unemployment    0\n",
       "dtype: int64"
      ]
     },
     "execution_count": 5,
     "metadata": {},
     "output_type": "execute_result"
    }
   ],
   "source": [
    "df.isna().sum()"
   ]
  },
  {
   "cell_type": "code",
   "execution_count": 6,
   "id": "c0175397",
   "metadata": {
    "execution": {
     "iopub.execute_input": "2024-08-07T21:07:21.530330Z",
     "iopub.status.busy": "2024-08-07T21:07:21.529801Z",
     "iopub.status.idle": "2024-08-07T21:07:21.541967Z",
     "shell.execute_reply": "2024-08-07T21:07:21.540642Z"
    },
    "papermill": {
     "duration": 0.035506,
     "end_time": "2024-08-07T21:07:21.544645",
     "exception": false,
     "start_time": "2024-08-07T21:07:21.509139",
     "status": "completed"
    },
    "tags": []
   },
   "outputs": [
    {
     "data": {
      "text/plain": [
       "0"
      ]
     },
     "execution_count": 6,
     "metadata": {},
     "output_type": "execute_result"
    }
   ],
   "source": [
    "df.duplicated().sum()"
   ]
  },
  {
   "cell_type": "markdown",
   "id": "0cb13671",
   "metadata": {
    "papermill": {
     "duration": 0.018408,
     "end_time": "2024-08-07T21:07:21.581993",
     "exception": false,
     "start_time": "2024-08-07T21:07:21.563585",
     "status": "completed"
    },
    "tags": []
   },
   "source": [
    "## Distribution of weekly sales."
   ]
  },
  {
   "cell_type": "code",
   "execution_count": 7,
   "id": "10ccf646",
   "metadata": {
    "execution": {
     "iopub.execute_input": "2024-08-07T21:07:21.621166Z",
     "iopub.status.busy": "2024-08-07T21:07:21.620733Z",
     "iopub.status.idle": "2024-08-07T21:07:22.140146Z",
     "shell.execute_reply": "2024-08-07T21:07:22.139001Z"
    },
    "papermill": {
     "duration": 0.542244,
     "end_time": "2024-08-07T21:07:22.142783",
     "exception": false,
     "start_time": "2024-08-07T21:07:21.600539",
     "status": "completed"
    },
    "tags": []
   },
   "outputs": [
    {
     "name": "stderr",
     "output_type": "stream",
     "text": [
      "/opt/conda/lib/python3.10/site-packages/seaborn/_oldcore.py:1119: FutureWarning: use_inf_as_na option is deprecated and will be removed in a future version. Convert inf values to NaN before operating instead.\n",
      "  with pd.option_context('mode.use_inf_as_na', True):\n"
     ]
    },
    {
     "data": {
      "image/png": "[encoded data removed]",
      "text/plain": [
       "<Figure size 1000x600 with 1 Axes>"
      ]
     },
     "metadata": {},
     "output_type": "display_data"
    }
   ],
   "source": [
    "plt.figure(figsize=(10, 6))\n",
    "sns.histplot(df['Weekly_Sales'], bins=50)\n",
    "plt.title('Distribution of Weekly Sales')\n",
    "plt.xlabel('Weekly Sales')\n",
    "plt.ylabel('Frequency')\n",
    "plt.show()\n"
   ]
  },
  {
   "cell_type": "markdown",
   "id": "a27c57c7",
   "metadata": {
    "papermill": {
     "duration": 0.019009,
     "end_time": "2024-08-07T21:07:22.181339",
     "exception": false,
     "start_time": "2024-08-07T21:07:22.162330",
     "status": "completed"
    },
    "tags": []
   },
   "source": [
    "## Feature Engineering."
   ]
  },
  {
   "cell_type": "code",
   "execution_count": 8,
   "id": "3f5ad4b4",
   "metadata": {
    "execution": {
     "iopub.execute_input": "2024-08-07T21:07:22.221526Z",
     "iopub.status.busy": "2024-08-07T21:07:22.221123Z",
     "iopub.status.idle": "2024-08-07T21:07:22.229415Z",
     "shell.execute_reply": "2024-08-07T21:07:22.228433Z"
    },
    "papermill": {
     "duration": 0.031148,
     "end_time": "2024-08-07T21:07:22.231690",
     "exception": false,
     "start_time": "2024-08-07T21:07:22.200542",
     "status": "completed"
    },
    "tags": []
   },
   "outputs": [
    {
     "data": {
      "text/plain": [
       "Index(['store', 'date', 'weekly_sales', 'holiday_flag', 'temperature',\n",
       "       'fuel_price', 'cpi', 'unemployment'],\n",
       "      dtype='object')"
      ]
     },
     "execution_count": 8,
     "metadata": {},
     "output_type": "execute_result"
    }
   ],
   "source": [
    "# Converting all column names to lower case\n",
    "df.columns = df.columns.str.lower()\n",
    "df.columns"
   ]
  },
  {
   "cell_type": "code",
   "execution_count": 9,
   "id": "e07aaeb3",
   "metadata": {
    "execution": {
     "iopub.execute_input": "2024-08-07T21:07:22.272004Z",
     "iopub.status.busy": "2024-08-07T21:07:22.271589Z",
     "iopub.status.idle": "2024-08-07T21:07:22.288351Z",
     "shell.execute_reply": "2024-08-07T21:07:22.286822Z"
    },
    "papermill": {
     "duration": 0.039849,
     "end_time": "2024-08-07T21:07:22.290832",
     "exception": false,
     "start_time": "2024-08-07T21:07:22.250983",
     "status": "completed"
    },
    "tags": []
   },
   "outputs": [
    {
     "name": "stdout",
     "output_type": "stream",
     "text": [
      "<class 'pandas.core.series.Series'>\n",
      "RangeIndex: 6435 entries, 0 to 6434\n",
      "Series name: date\n",
      "Non-Null Count  Dtype         \n",
      "--------------  -----         \n",
      "6435 non-null   datetime64[ns]\n",
      "dtypes: datetime64[ns](1)\n",
      "memory usage: 50.4 KB\n"
     ]
    }
   ],
   "source": [
    "df['date'] = pd.to_datetime(df['date'], format = 'mixed', dayfirst = True)\n",
    "df['date'].info()"
   ]
  },
  {
   "cell_type": "code",
   "execution_count": 10,
   "id": "543538cc",
   "metadata": {
    "execution": {
     "iopub.execute_input": "2024-08-07T21:07:22.331552Z",
     "iopub.status.busy": "2024-08-07T21:07:22.331165Z",
     "iopub.status.idle": "2024-08-07T21:07:22.349028Z",
     "shell.execute_reply": "2024-08-07T21:07:22.347814Z"
    },
    "papermill": {
     "duration": 0.04137,
     "end_time": "2024-08-07T21:07:22.351791",
     "exception": false,
     "start_time": "2024-08-07T21:07:22.310421",
     "status": "completed"
    },
    "tags": []
   },
   "outputs": [
    {
     "name": "stdout",
     "output_type": "stream",
     "text": [
      "<class 'pandas.core.frame.DataFrame'>\n",
      "RangeIndex: 6435 entries, 0 to 6434\n",
      "Data columns (total 3 columns):\n",
      " #   Column  Non-Null Count  Dtype\n",
      "---  ------  --------------  -----\n",
      " 0   day     6435 non-null   int32\n",
      " 1   month   6435 non-null   int32\n",
      " 2   year    6435 non-null   int32\n",
      "dtypes: int32(3)\n",
      "memory usage: 75.5 KB\n"
     ]
    }
   ],
   "source": [
    "df['day'] = df['date'].dt.day \n",
    "df['month'] = df['date'].dt.month\n",
    "df['year'] = df['date'].dt.year\n",
    "\n",
    "df[['day', 'month', 'year']].info()"
   ]
  },
  {
   "cell_type": "code",
   "execution_count": 11,
   "id": "e67a94fd",
   "metadata": {
    "execution": {
     "iopub.execute_input": "2024-08-07T21:07:22.393701Z",
     "iopub.status.busy": "2024-08-07T21:07:22.393288Z",
     "iopub.status.idle": "2024-08-07T21:07:22.411052Z",
     "shell.execute_reply": "2024-08-07T21:07:22.409908Z"
    },
    "papermill": {
     "duration": 0.041678,
     "end_time": "2024-08-07T21:07:22.413534",
     "exception": false,
     "start_time": "2024-08-07T21:07:22.371856",
     "status": "completed"
    },
    "tags": []
   },
   "outputs": [
    {
     "data": {
      "text/plain": [
       "season\n",
       "Summer    1800\n",
       "Spring    1755\n",
       "Fall      1530\n",
       "Winter    1350\n",
       "Name: count, dtype: int64"
      ]
     },
     "execution_count": 11,
     "metadata": {},
     "output_type": "execute_result"
    }
   ],
   "source": [
    "def to_season(month: int) -> str:\n",
    "    \n",
    "    if month in (12, 1, 2):\n",
    "        return 'Winter'\n",
    "    elif month in (3, 4, 5):\n",
    "        return 'Spring'\n",
    "    elif month in (6, 7, 8):\n",
    "        return 'Summer'\n",
    "    else:\n",
    "        return 'Fall'\n",
    "\n",
    "df['season'] = df['month'].apply(lambda x: to_season(x))    \n",
    "df['season'].value_counts()"
   ]
  },
  {
   "cell_type": "markdown",
   "id": "c610edd2",
   "metadata": {
    "papermill": {
     "duration": 0.019394,
     "end_time": "2024-08-07T21:07:22.452760",
     "exception": false,
     "start_time": "2024-08-07T21:07:22.433366",
     "status": "completed"
    },
    "tags": []
   },
   "source": [
    "## Sales trends over time."
   ]
  },
  {
   "cell_type": "code",
   "execution_count": 12,
   "id": "821ab60a",
   "metadata": {
    "execution": {
     "iopub.execute_input": "2024-08-07T21:07:22.493807Z",
     "iopub.status.busy": "2024-08-07T21:07:22.493401Z",
     "iopub.status.idle": "2024-08-07T21:07:23.246956Z",
     "shell.execute_reply": "2024-08-07T21:07:23.245600Z"
    },
    "papermill": {
     "duration": 0.777358,
     "end_time": "2024-08-07T21:07:23.249688",
     "exception": false,
     "start_time": "2024-08-07T21:07:22.472330",
     "status": "completed"
    },
    "tags": []
   },
   "outputs": [
    {
     "data": {
      "image/png": "[encoded data removed]",
      "text/plain": [
       "<Figure size 1600x800 with 1 Axes>"
      ]
     },
     "metadata": {},
     "output_type": "display_data"
    }
   ],
   "source": [
    "#MONTHLY\n",
    "plt.figure(figsize=(16,8))\n",
    "sns.barplot(data = df, x = 'month', y = 'weekly_sales')\n",
    "plt.xlabel('Months')\n",
    "plt.ylabel('Sales')\n",
    "plt.title('Sales per Month')\n",
    "plt.show()"
   ]
  },
  {
   "cell_type": "code",
   "execution_count": 13,
   "id": "a58a0b7d",
   "metadata": {
    "execution": {
     "iopub.execute_input": "2024-08-07T21:07:23.294062Z",
     "iopub.status.busy": "2024-08-07T21:07:23.293615Z",
     "iopub.status.idle": "2024-08-07T21:07:23.752697Z",
     "shell.execute_reply": "2024-08-07T21:07:23.751463Z"
    },
    "papermill": {
     "duration": 0.485615,
     "end_time": "2024-08-07T21:07:23.755601",
     "exception": false,
     "start_time": "2024-08-07T21:07:23.269986",
     "status": "completed"
    },
    "tags": []
   },
   "outputs": [
    {
     "data": {
      "image/png": "[encoded data removed]",
      "text/plain": [
       "<Figure size 1600x800 with 1 Axes>"
      ]
     },
     "metadata": {},
     "output_type": "display_data"
    }
   ],
   "source": [
    "#YEARLY\n",
    "plt.figure(figsize=(16,8))\n",
    "sns.barplot(data = df, x = 'year', y = 'weekly_sales')\n",
    "plt.xlabel('Years')\n",
    "plt.ylabel('Sales')\n",
    "plt.title('Sales per Year')\n",
    "plt.show()"
   ]
  },
  {
   "cell_type": "markdown",
   "id": "4a8b2b67",
   "metadata": {
    "papermill": {
     "duration": 0.022889,
     "end_time": "2024-08-07T21:07:23.804953",
     "exception": false,
     "start_time": "2024-08-07T21:07:23.782064",
     "status": "completed"
    },
    "tags": []
   },
   "source": [
    "## Variation of sales across stores."
   ]
  },
  {
   "cell_type": "code",
   "execution_count": 14,
   "id": "788658e3",
   "metadata": {
    "execution": {
     "iopub.execute_input": "2024-08-07T21:07:23.848799Z",
     "iopub.status.busy": "2024-08-07T21:07:23.848378Z",
     "iopub.status.idle": "2024-08-07T21:07:25.815169Z",
     "shell.execute_reply": "2024-08-07T21:07:25.813977Z"
    },
    "papermill": {
     "duration": 1.992772,
     "end_time": "2024-08-07T21:07:25.818841",
     "exception": false,
     "start_time": "2024-08-07T21:07:23.826069",
     "status": "completed"
    },
    "tags": []
   },
   "outputs": [
    {
     "name": "stderr",
     "output_type": "stream",
     "text": [
      "/opt/conda/lib/python3.10/site-packages/seaborn/_oldcore.py:1119: FutureWarning: use_inf_as_na option is deprecated and will be removed in a future version. Convert inf values to NaN before operating instead.\n",
      "  with pd.option_context('mode.use_inf_as_na', True):\n",
      "/opt/conda/lib/python3.10/site-packages/seaborn/_oldcore.py:1119: FutureWarning: use_inf_as_na option is deprecated and will be removed in a future version. Convert inf values to NaN before operating instead.\n",
      "  with pd.option_context('mode.use_inf_as_na', True):\n"
     ]
    },
    {
     "data": {
      "image/png": "[encoded data removed]",
      "text/plain": [
       "<Figure size 1600x800 with 1 Axes>"
      ]
     },
     "metadata": {},
     "output_type": "display_data"
    }
   ],
   "source": [
    "plt.figure(figsize=(16,8))\n",
    "sns.lineplot(data = df, x = 'store', y = 'weekly_sales')\n",
    "plt.xlabel('Stores')\n",
    "plt.ylabel('Sales')\n",
    "plt.title('Sales per Store')\n",
    "plt.show()"
   ]
  },
  {
   "cell_type": "markdown",
   "id": "2abb7466",
   "metadata": {
    "papermill": {
     "duration": 0.02218,
     "end_time": "2024-08-07T21:07:25.863915",
     "exception": false,
     "start_time": "2024-08-07T21:07:25.841735",
     "status": "completed"
    },
    "tags": []
   },
   "source": [
    "## Seasonal sales data."
   ]
  },
  {
   "cell_type": "code",
   "execution_count": 15,
   "id": "dc401ede",
   "metadata": {
    "execution": {
     "iopub.execute_input": "2024-08-07T21:07:25.972443Z",
     "iopub.status.busy": "2024-08-07T21:07:25.971995Z",
     "iopub.status.idle": "2024-08-07T21:07:26.437208Z",
     "shell.execute_reply": "2024-08-07T21:07:26.435799Z"
    },
    "papermill": {
     "duration": 0.4923,
     "end_time": "2024-08-07T21:07:26.439981",
     "exception": false,
     "start_time": "2024-08-07T21:07:25.947681",
     "status": "completed"
    },
    "tags": []
   },
   "outputs": [
    {
     "data": {
      "image/png": "[encoded data removed]",
      "text/plain": [
       "<Figure size 1600x800 with 1 Axes>"
      ]
     },
     "metadata": {},
     "output_type": "display_data"
    }
   ],
   "source": [
    "plt.figure(figsize=(16,8))\n",
    "sns.barplot(data = df, y = 'season', x = 'weekly_sales', orient = 'h')\n",
    "plt.xlabel('Seasons')\n",
    "plt.ylabel('Sales')\n",
    "plt.title('Sales per Season')\n",
    "plt.show()"
   ]
  },
  {
   "cell_type": "markdown",
   "id": "00791122",
   "metadata": {
    "papermill": {
     "duration": 0.022993,
     "end_time": "2024-08-07T21:07:26.486377",
     "exception": false,
     "start_time": "2024-08-07T21:07:26.463384",
     "status": "completed"
    },
    "tags": []
   },
   "source": [
    "## Peak sales periods during the year."
   ]
  },
  {
   "cell_type": "code",
   "execution_count": 16,
   "id": "151e2cb5",
   "metadata": {
    "execution": {
     "iopub.execute_input": "2024-08-07T21:07:26.536470Z",
     "iopub.status.busy": "2024-08-07T21:07:26.536023Z",
     "iopub.status.idle": "2024-08-07T21:07:26.566166Z",
     "shell.execute_reply": "2024-08-07T21:07:26.564936Z"
    },
    "papermill": {
     "duration": 0.058895,
     "end_time": "2024-08-07T21:07:26.568784",
     "exception": false,
     "start_time": "2024-08-07T21:07:26.509889",
     "status": "completed"
    },
    "tags": []
   },
   "outputs": [
    {
     "data": {
      "text/html": [
       "<div>\n",
       "<style scoped>\n",
       "    .dataframe tbody tr th:only-of-type {\n",
       "        vertical-align: middle;\n",
       "    }\n",
       "\n",
       "    .dataframe tbody tr th {\n",
       "        vertical-align: top;\n",
       "    }\n",
       "\n",
       "    .dataframe thead th {\n",
       "        text-align: right;\n",
       "    }\n",
       "</style>\n",
       "<table border=\"1\" class=\"dataframe\">\n",
       "  <thead>\n",
       "    <tr style=\"text-align: right;\">\n",
       "      <th>season</th>\n",
       "      <th>Fall</th>\n",
       "      <th>Spring</th>\n",
       "      <th>Summer</th>\n",
       "      <th>Winter</th>\n",
       "    </tr>\n",
       "    <tr>\n",
       "      <th>year</th>\n",
       "      <th></th>\n",
       "      <th></th>\n",
       "      <th></th>\n",
       "      <th></th>\n",
       "    </tr>\n",
       "  </thead>\n",
       "  <tbody>\n",
       "    <tr>\n",
       "      <th>2010</th>\n",
       "      <td>5.972831e+08</td>\n",
       "      <td>6.000431e+08</td>\n",
       "      <td>6.124664e+08</td>\n",
       "      <td>4.790935e+08</td>\n",
       "    </tr>\n",
       "    <tr>\n",
       "      <th>2011</th>\n",
       "      <td>6.142714e+08</td>\n",
       "      <td>5.875311e+08</td>\n",
       "      <td>6.082841e+08</td>\n",
       "      <td>6.381134e+08</td>\n",
       "    </tr>\n",
       "    <tr>\n",
       "      <th>2012</th>\n",
       "      <td>3.650072e+08</td>\n",
       "      <td>6.091970e+08</td>\n",
       "      <td>6.649705e+08</td>\n",
       "      <td>3.609581e+08</td>\n",
       "    </tr>\n",
       "  </tbody>\n",
       "</table>\n",
       "</div>"
      ],
      "text/plain": [
       "season          Fall        Spring        Summer        Winter\n",
       "year                                                          \n",
       "2010    5.972831e+08  6.000431e+08  6.124664e+08  4.790935e+08\n",
       "2011    6.142714e+08  5.875311e+08  6.082841e+08  6.381134e+08\n",
       "2012    3.650072e+08  6.091970e+08  6.649705e+08  3.609581e+08"
      ]
     },
     "execution_count": 16,
     "metadata": {},
     "output_type": "execute_result"
    }
   ],
   "source": [
    "plot_data = df.pivot_table(index = 'year', columns = 'season', values = 'weekly_sales', aggfunc = 'sum')\n",
    "plot_data"
   ]
  },
  {
   "cell_type": "code",
   "execution_count": 17,
   "id": "3cda66e7",
   "metadata": {
    "execution": {
     "iopub.execute_input": "2024-08-07T21:07:26.617282Z",
     "iopub.status.busy": "2024-08-07T21:07:26.616848Z",
     "iopub.status.idle": "2024-08-07T21:07:26.981448Z",
     "shell.execute_reply": "2024-08-07T21:07:26.980172Z"
    },
    "papermill": {
     "duration": 0.392069,
     "end_time": "2024-08-07T21:07:26.984336",
     "exception": false,
     "start_time": "2024-08-07T21:07:26.592267",
     "status": "completed"
    },
    "tags": []
   },
   "outputs": [
    {
     "data": {
      "text/plain": [
       "<Axes: xlabel='year', ylabel='Sum of Sales'>"
      ]
     },
     "execution_count": 17,
     "metadata": {},
     "output_type": "execute_result"
    },
    {
     "data": {
      "image/png": "[encoded data removed]",
      "text/plain": [
       "<Figure size 640x480 with 1 Axes>"
      ]
     },
     "metadata": {},
     "output_type": "display_data"
    }
   ],
   "source": [
    "plot_data.plot(kind = 'bar', ylabel = 'Sum of Sales')"
   ]
  },
  {
   "cell_type": "code",
   "execution_count": 18,
   "id": "38cc4b89",
   "metadata": {
    "execution": {
     "iopub.execute_input": "2024-08-07T21:07:27.035307Z",
     "iopub.status.busy": "2024-08-07T21:07:27.034148Z",
     "iopub.status.idle": "2024-08-07T21:07:27.064329Z",
     "shell.execute_reply": "2024-08-07T21:07:27.062998Z"
    },
    "papermill": {
     "duration": 0.058632,
     "end_time": "2024-08-07T21:07:27.067297",
     "exception": false,
     "start_time": "2024-08-07T21:07:27.008665",
     "status": "completed"
    },
    "tags": []
   },
   "outputs": [
    {
     "data": {
      "text/html": [
       "<div>\n",
       "<style scoped>\n",
       "    .dataframe tbody tr th:only-of-type {\n",
       "        vertical-align: middle;\n",
       "    }\n",
       "\n",
       "    .dataframe tbody tr th {\n",
       "        vertical-align: top;\n",
       "    }\n",
       "\n",
       "    .dataframe thead th {\n",
       "        text-align: right;\n",
       "    }\n",
       "</style>\n",
       "<table border=\"1\" class=\"dataframe\">\n",
       "  <thead>\n",
       "    <tr style=\"text-align: right;\">\n",
       "      <th>month</th>\n",
       "      <th>1</th>\n",
       "      <th>2</th>\n",
       "      <th>3</th>\n",
       "      <th>4</th>\n",
       "      <th>5</th>\n",
       "      <th>6</th>\n",
       "      <th>7</th>\n",
       "      <th>8</th>\n",
       "      <th>9</th>\n",
       "      <th>10</th>\n",
       "      <th>11</th>\n",
       "      <th>12</th>\n",
       "    </tr>\n",
       "    <tr>\n",
       "      <th>year</th>\n",
       "      <th></th>\n",
       "      <th></th>\n",
       "      <th></th>\n",
       "      <th></th>\n",
       "      <th></th>\n",
       "      <th></th>\n",
       "      <th></th>\n",
       "      <th></th>\n",
       "      <th></th>\n",
       "      <th></th>\n",
       "      <th></th>\n",
       "      <th></th>\n",
       "    </tr>\n",
       "  </thead>\n",
       "  <tbody>\n",
       "    <tr>\n",
       "      <th>2010</th>\n",
       "      <td>NaN</td>\n",
       "      <td>1.903330e+08</td>\n",
       "      <td>1.819198e+08</td>\n",
       "      <td>2.314124e+08</td>\n",
       "      <td>1.867109e+08</td>\n",
       "      <td>1.922462e+08</td>\n",
       "      <td>2.325801e+08</td>\n",
       "      <td>1.876401e+08</td>\n",
       "      <td>1.772679e+08</td>\n",
       "      <td>2.171618e+08</td>\n",
       "      <td>2.028534e+08</td>\n",
       "      <td>2.887605e+08</td>\n",
       "    </tr>\n",
       "    <tr>\n",
       "      <th>2011</th>\n",
       "      <td>1.637040e+08</td>\n",
       "      <td>1.863313e+08</td>\n",
       "      <td>1.793564e+08</td>\n",
       "      <td>2.265265e+08</td>\n",
       "      <td>1.816482e+08</td>\n",
       "      <td>1.897734e+08</td>\n",
       "      <td>2.299114e+08</td>\n",
       "      <td>1.885993e+08</td>\n",
       "      <td>2.208477e+08</td>\n",
       "      <td>1.832613e+08</td>\n",
       "      <td>2.101624e+08</td>\n",
       "      <td>2.880781e+08</td>\n",
       "    </tr>\n",
       "    <tr>\n",
       "      <th>2012</th>\n",
       "      <td>1.688945e+08</td>\n",
       "      <td>1.920636e+08</td>\n",
       "      <td>2.315097e+08</td>\n",
       "      <td>1.889209e+08</td>\n",
       "      <td>1.887665e+08</td>\n",
       "      <td>2.406103e+08</td>\n",
       "      <td>1.875095e+08</td>\n",
       "      <td>2.368508e+08</td>\n",
       "      <td>1.806455e+08</td>\n",
       "      <td>1.843617e+08</td>\n",
       "      <td>NaN</td>\n",
       "      <td>NaN</td>\n",
       "    </tr>\n",
       "  </tbody>\n",
       "</table>\n",
       "</div>"
      ],
      "text/plain": [
       "month            1             2             3             4             5   \\\n",
       "year                                                                          \n",
       "2010            NaN  1.903330e+08  1.819198e+08  2.314124e+08  1.867109e+08   \n",
       "2011   1.637040e+08  1.863313e+08  1.793564e+08  2.265265e+08  1.816482e+08   \n",
       "2012   1.688945e+08  1.920636e+08  2.315097e+08  1.889209e+08  1.887665e+08   \n",
       "\n",
       "month            6             7             8             9             10  \\\n",
       "year                                                                          \n",
       "2010   1.922462e+08  2.325801e+08  1.876401e+08  1.772679e+08  2.171618e+08   \n",
       "2011   1.897734e+08  2.299114e+08  1.885993e+08  2.208477e+08  1.832613e+08   \n",
       "2012   2.406103e+08  1.875095e+08  2.368508e+08  1.806455e+08  1.843617e+08   \n",
       "\n",
       "month            11            12  \n",
       "year                               \n",
       "2010   2.028534e+08  2.887605e+08  \n",
       "2011   2.101624e+08  2.880781e+08  \n",
       "2012            NaN           NaN  "
      ]
     },
     "execution_count": 18,
     "metadata": {},
     "output_type": "execute_result"
    }
   ],
   "source": [
    "plot_data = df.pivot_table(index = 'year', columns = 'month', values = 'weekly_sales', aggfunc = 'sum')\n",
    "plot_data"
   ]
  },
  {
   "cell_type": "code",
   "execution_count": 19,
   "id": "e4d8c551",
   "metadata": {
    "execution": {
     "iopub.execute_input": "2024-08-07T21:07:27.118444Z",
     "iopub.status.busy": "2024-08-07T21:07:27.118032Z",
     "iopub.status.idle": "2024-08-07T21:07:27.624976Z",
     "shell.execute_reply": "2024-08-07T21:07:27.623676Z"
    },
    "papermill": {
     "duration": 0.535457,
     "end_time": "2024-08-07T21:07:27.627710",
     "exception": false,
     "start_time": "2024-08-07T21:07:27.092253",
     "status": "completed"
    },
    "tags": []
   },
   "outputs": [
    {
     "data": {
      "text/plain": [
       "<Axes: xlabel='year', ylabel='Sum of Sales'>"
      ]
     },
     "execution_count": 19,
     "metadata": {},
     "output_type": "execute_result"
    },
    {
     "data": {
      "image/png": "[encoded data removed]",
      "text/plain": [
       "<Figure size 640x480 with 1 Axes>"
      ]
     },
     "metadata": {},
     "output_type": "display_data"
    }
   ],
   "source": [
    "plot_data.plot(kind = 'bar', ylabel = 'Sum of Sales')"
   ]
  },
  {
   "cell_type": "markdown",
   "id": "0bd6bcbf",
   "metadata": {
    "papermill": {
     "duration": 0.024671,
     "end_time": "2024-08-07T21:07:27.677662",
     "exception": false,
     "start_time": "2024-08-07T21:07:27.652991",
     "status": "completed"
    },
    "tags": []
   },
   "source": [
    "## Sales by Holidays"
   ]
  },
  {
   "cell_type": "code",
   "execution_count": 20,
   "id": "f3bd3a25",
   "metadata": {
    "execution": {
     "iopub.execute_input": "2024-08-07T21:07:27.729765Z",
     "iopub.status.busy": "2024-08-07T21:07:27.729323Z",
     "iopub.status.idle": "2024-08-07T21:07:28.132353Z",
     "shell.execute_reply": "2024-08-07T21:07:28.131158Z"
    },
    "papermill": {
     "duration": 0.432308,
     "end_time": "2024-08-07T21:07:28.134915",
     "exception": false,
     "start_time": "2024-08-07T21:07:27.702607",
     "status": "completed"
    },
    "tags": []
   },
   "outputs": [
    {
     "data": {
      "image/png": "[encoded data removed]",
      "text/plain": [
       "<Figure size 1600x800 with 1 Axes>"
      ]
     },
     "metadata": {},
     "output_type": "display_data"
    }
   ],
   "source": [
    "plt.figure(figsize = (16,8))\n",
    "sns.barplot(data = df, x = 'holiday_flag', y = 'weekly_sales', estimator = 'mean')\n",
    "plt.xlabel('Holiday or Not')\n",
    "plt.ylabel('Sales')\n",
    "plt.title('Avg. Sales by Holiday')\n",
    "plt.show()"
   ]
  },
  {
   "cell_type": "code",
   "execution_count": 21,
   "id": "09166cc5",
   "metadata": {
    "execution": {
     "iopub.execute_input": "2024-08-07T21:07:28.188455Z",
     "iopub.status.busy": "2024-08-07T21:07:28.188000Z",
     "iopub.status.idle": "2024-08-07T21:07:28.208690Z",
     "shell.execute_reply": "2024-08-07T21:07:28.207463Z"
    },
    "papermill": {
     "duration": 0.050684,
     "end_time": "2024-08-07T21:07:28.211263",
     "exception": false,
     "start_time": "2024-08-07T21:07:28.160579",
     "status": "completed"
    },
    "tags": []
   },
   "outputs": [
    {
     "data": {
      "text/html": [
       "<div>\n",
       "<style scoped>\n",
       "    .dataframe tbody tr th:only-of-type {\n",
       "        vertical-align: middle;\n",
       "    }\n",
       "\n",
       "    .dataframe tbody tr th {\n",
       "        vertical-align: top;\n",
       "    }\n",
       "\n",
       "    .dataframe thead th {\n",
       "        text-align: right;\n",
       "    }\n",
       "</style>\n",
       "<table border=\"1\" class=\"dataframe\">\n",
       "  <thead>\n",
       "    <tr style=\"text-align: right;\">\n",
       "      <th>holiday_flag</th>\n",
       "      <th>0</th>\n",
       "      <th>1</th>\n",
       "    </tr>\n",
       "    <tr>\n",
       "      <th>year</th>\n",
       "      <th></th>\n",
       "      <th></th>\n",
       "    </tr>\n",
       "  </thead>\n",
       "  <tbody>\n",
       "    <tr>\n",
       "      <th>2010</th>\n",
       "      <td>1.054880e+06</td>\n",
       "      <td>1.112359e+06</td>\n",
       "    </tr>\n",
       "    <tr>\n",
       "      <th>2011</th>\n",
       "      <td>1.037715e+06</td>\n",
       "      <td>1.148530e+06</td>\n",
       "    </tr>\n",
       "    <tr>\n",
       "      <th>2012</th>\n",
       "      <td>1.030782e+06</td>\n",
       "      <td>1.092661e+06</td>\n",
       "    </tr>\n",
       "  </tbody>\n",
       "</table>\n",
       "</div>"
      ],
      "text/plain": [
       "holiday_flag             0             1\n",
       "year                                    \n",
       "2010          1.054880e+06  1.112359e+06\n",
       "2011          1.037715e+06  1.148530e+06\n",
       "2012          1.030782e+06  1.092661e+06"
      ]
     },
     "execution_count": 21,
     "metadata": {},
     "output_type": "execute_result"
    }
   ],
   "source": [
    "plot_data = df.pivot_table(index = 'year', columns = 'holiday_flag', values = 'weekly_sales', aggfunc = 'mean')\n",
    "plot_data"
   ]
  },
  {
   "cell_type": "code",
   "execution_count": 22,
   "id": "14dea6e0",
   "metadata": {
    "execution": {
     "iopub.execute_input": "2024-08-07T21:07:28.264413Z",
     "iopub.status.busy": "2024-08-07T21:07:28.263965Z",
     "iopub.status.idle": "2024-08-07T21:07:28.575863Z",
     "shell.execute_reply": "2024-08-07T21:07:28.574767Z"
    },
    "papermill": {
     "duration": 0.341771,
     "end_time": "2024-08-07T21:07:28.578609",
     "exception": false,
     "start_time": "2024-08-07T21:07:28.236838",
     "status": "completed"
    },
    "tags": []
   },
   "outputs": [
    {
     "data": {
      "text/plain": [
       "<Axes: xlabel='Avg of Sales'>"
      ]
     },
     "execution_count": 22,
     "metadata": {},
     "output_type": "execute_result"
    },
    {
     "data": {
      "image/png": "[encoded data removed]",
      "text/plain": [
       "<Figure size 640x480 with 1 Axes>"
      ]
     },
     "metadata": {},
     "output_type": "display_data"
    }
   ],
   "source": [
    "plot_data.plot(kind = 'bar', xlabel = 'Avg of Sales')"
   ]
  },
  {
   "cell_type": "code",
   "execution_count": 23,
   "id": "be417b9a",
   "metadata": {
    "execution": {
     "iopub.execute_input": "2024-08-07T21:07:28.632762Z",
     "iopub.status.busy": "2024-08-07T21:07:28.632321Z",
     "iopub.status.idle": "2024-08-07T21:07:28.652642Z",
     "shell.execute_reply": "2024-08-07T21:07:28.651520Z"
    },
    "papermill": {
     "duration": 0.050387,
     "end_time": "2024-08-07T21:07:28.655178",
     "exception": false,
     "start_time": "2024-08-07T21:07:28.604791",
     "status": "completed"
    },
    "tags": []
   },
   "outputs": [
    {
     "data": {
      "text/html": [
       "<div>\n",
       "<style scoped>\n",
       "    .dataframe tbody tr th:only-of-type {\n",
       "        vertical-align: middle;\n",
       "    }\n",
       "\n",
       "    .dataframe tbody tr th {\n",
       "        vertical-align: top;\n",
       "    }\n",
       "\n",
       "    .dataframe thead th {\n",
       "        text-align: right;\n",
       "    }\n",
       "</style>\n",
       "<table border=\"1\" class=\"dataframe\">\n",
       "  <thead>\n",
       "    <tr style=\"text-align: right;\">\n",
       "      <th>holiday_flag</th>\n",
       "      <th>0</th>\n",
       "      <th>1</th>\n",
       "    </tr>\n",
       "    <tr>\n",
       "      <th>month</th>\n",
       "      <th></th>\n",
       "      <th></th>\n",
       "    </tr>\n",
       "  </thead>\n",
       "  <tbody>\n",
       "    <tr>\n",
       "      <th>1</th>\n",
       "      <td>9.238846e+05</td>\n",
       "      <td>NaN</td>\n",
       "    </tr>\n",
       "    <tr>\n",
       "      <th>2</th>\n",
       "      <td>1.044557e+06</td>\n",
       "      <td>1.079128e+06</td>\n",
       "    </tr>\n",
       "    <tr>\n",
       "      <th>3</th>\n",
       "      <td>1.013309e+06</td>\n",
       "      <td>NaN</td>\n",
       "    </tr>\n",
       "    <tr>\n",
       "      <th>4</th>\n",
       "      <td>1.026762e+06</td>\n",
       "      <td>NaN</td>\n",
       "    </tr>\n",
       "    <tr>\n",
       "      <th>5</th>\n",
       "      <td>1.031714e+06</td>\n",
       "      <td>NaN</td>\n",
       "    </tr>\n",
       "    <tr>\n",
       "      <th>6</th>\n",
       "      <td>1.064325e+06</td>\n",
       "      <td>NaN</td>\n",
       "    </tr>\n",
       "    <tr>\n",
       "      <th>7</th>\n",
       "      <td>1.031748e+06</td>\n",
       "      <td>NaN</td>\n",
       "    </tr>\n",
       "    <tr>\n",
       "      <th>8</th>\n",
       "      <td>1.048017e+06</td>\n",
       "      <td>NaN</td>\n",
       "    </tr>\n",
       "    <tr>\n",
       "      <th>9</th>\n",
       "      <td>9.734078e+05</td>\n",
       "      <td>1.042427e+06</td>\n",
       "    </tr>\n",
       "    <tr>\n",
       "      <th>10</th>\n",
       "      <td>9.996321e+05</td>\n",
       "      <td>NaN</td>\n",
       "    </tr>\n",
       "    <tr>\n",
       "      <th>11</th>\n",
       "      <td>1.039263e+06</td>\n",
       "      <td>1.471273e+06</td>\n",
       "    </tr>\n",
       "    <tr>\n",
       "      <th>12</th>\n",
       "      <td>1.362121e+06</td>\n",
       "      <td>9.608331e+05</td>\n",
       "    </tr>\n",
       "  </tbody>\n",
       "</table>\n",
       "</div>"
      ],
      "text/plain": [
       "holiday_flag             0             1\n",
       "month                                   \n",
       "1             9.238846e+05           NaN\n",
       "2             1.044557e+06  1.079128e+06\n",
       "3             1.013309e+06           NaN\n",
       "4             1.026762e+06           NaN\n",
       "5             1.031714e+06           NaN\n",
       "6             1.064325e+06           NaN\n",
       "7             1.031748e+06           NaN\n",
       "8             1.048017e+06           NaN\n",
       "9             9.734078e+05  1.042427e+06\n",
       "10            9.996321e+05           NaN\n",
       "11            1.039263e+06  1.471273e+06\n",
       "12            1.362121e+06  9.608331e+05"
      ]
     },
     "execution_count": 23,
     "metadata": {},
     "output_type": "execute_result"
    }
   ],
   "source": [
    "plot_data = df.pivot_table(index = 'month', columns = 'holiday_flag', values = 'weekly_sales', aggfunc = 'mean')\n",
    "plot_data"
   ]
  },
  {
   "cell_type": "code",
   "execution_count": 24,
   "id": "c751c87f",
   "metadata": {
    "execution": {
     "iopub.execute_input": "2024-08-07T21:07:28.710801Z",
     "iopub.status.busy": "2024-08-07T21:07:28.709775Z",
     "iopub.status.idle": "2024-08-07T21:07:29.067696Z",
     "shell.execute_reply": "2024-08-07T21:07:29.066410Z"
    },
    "papermill": {
     "duration": 0.38852,
     "end_time": "2024-08-07T21:07:29.070509",
     "exception": false,
     "start_time": "2024-08-07T21:07:28.681989",
     "status": "completed"
    },
    "tags": []
   },
   "outputs": [
    {
     "data": {
      "text/plain": [
       "<Axes: xlabel='Avg. of Sales'>"
      ]
     },
     "execution_count": 24,
     "metadata": {},
     "output_type": "execute_result"
    },
    {
     "data": {
      "image/png": "[encoded data removed]",
      "text/plain": [
       "<Figure size 640x480 with 1 Axes>"
      ]
     },
     "metadata": {},
     "output_type": "display_data"
    }
   ],
   "source": [
    "plot_data.plot(kind = 'bar', xlabel = 'Avg. of Sales')"
   ]
  },
  {
   "cell_type": "markdown",
   "id": "c65d04e7",
   "metadata": {
    "papermill": {
     "duration": 0.02785,
     "end_time": "2024-08-07T21:07:29.126371",
     "exception": false,
     "start_time": "2024-08-07T21:07:29.098521",
     "status": "completed"
    },
    "tags": []
   },
   "source": [
    "## Correlation analysis."
   ]
  },
  {
   "cell_type": "code",
   "execution_count": 25,
   "id": "1901ae2d",
   "metadata": {
    "execution": {
     "iopub.execute_input": "2024-08-07T21:07:29.184406Z",
     "iopub.status.busy": "2024-08-07T21:07:29.183928Z",
     "iopub.status.idle": "2024-08-07T21:07:29.192222Z",
     "shell.execute_reply": "2024-08-07T21:07:29.191010Z"
    },
    "papermill": {
     "duration": 0.040947,
     "end_time": "2024-08-07T21:07:29.195025",
     "exception": false,
     "start_time": "2024-08-07T21:07:29.154078",
     "status": "completed"
    },
    "tags": []
   },
   "outputs": [
    {
     "data": {
      "text/plain": [
       "Index(['store', 'date', 'weekly_sales', 'holiday_flag', 'temperature',\n",
       "       'fuel_price', 'cpi', 'unemployment', 'day', 'month', 'year', 'season'],\n",
       "      dtype='object')"
      ]
     },
     "execution_count": 25,
     "metadata": {},
     "output_type": "execute_result"
    }
   ],
   "source": [
    "df.columns"
   ]
  },
  {
   "cell_type": "code",
   "execution_count": 26,
   "id": "921c7cad",
   "metadata": {
    "execution": {
     "iopub.execute_input": "2024-08-07T21:07:29.251260Z",
     "iopub.status.busy": "2024-08-07T21:07:29.250792Z",
     "iopub.status.idle": "2024-08-07T21:07:29.846536Z",
     "shell.execute_reply": "2024-08-07T21:07:29.845255Z"
    },
    "papermill": {
     "duration": 0.627284,
     "end_time": "2024-08-07T21:07:29.849626",
     "exception": false,
     "start_time": "2024-08-07T21:07:29.222342",
     "status": "completed"
    },
    "tags": []
   },
   "outputs": [
    {
     "data": {
      "image/png": "[encoded data removed]",
      "text/plain": [
       "<Figure size 1600x800 with 2 Axes>"
      ]
     },
     "metadata": {},
     "output_type": "display_data"
    }
   ],
   "source": [
    "corr_matrix = df[['weekly_sales', 'holiday_flag', 'temperature', 'fuel_price', 'cpi', 'unemployment', 'month', 'day', 'year']].corr()\n",
    "plt.figure(figsize=(16, 8))\n",
    "sns.heatmap(corr_matrix, annot=True, cmap='coolwarm', fmt=\".2f\")\n",
    "plt.title('Correlation Heatmap')\n",
    "plt.show()"
   ]
  },
  {
   "cell_type": "code",
   "execution_count": 27,
   "id": "d8851b42",
   "metadata": {
    "execution": {
     "iopub.execute_input": "2024-08-07T21:07:29.909000Z",
     "iopub.status.busy": "2024-08-07T21:07:29.908562Z",
     "iopub.status.idle": "2024-08-07T21:07:29.928943Z",
     "shell.execute_reply": "2024-08-07T21:07:29.927746Z"
    },
    "papermill": {
     "duration": 0.052969,
     "end_time": "2024-08-07T21:07:29.931711",
     "exception": false,
     "start_time": "2024-08-07T21:07:29.878742",
     "status": "completed"
    },
    "tags": []
   },
   "outputs": [
    {
     "data": {
      "text/html": [
       "<div>\n",
       "<style scoped>\n",
       "    .dataframe tbody tr th:only-of-type {\n",
       "        vertical-align: middle;\n",
       "    }\n",
       "\n",
       "    .dataframe tbody tr th {\n",
       "        vertical-align: top;\n",
       "    }\n",
       "\n",
       "    .dataframe thead th {\n",
       "        text-align: right;\n",
       "    }\n",
       "</style>\n",
       "<table border=\"1\" class=\"dataframe\">\n",
       "  <thead>\n",
       "    <tr style=\"text-align: right;\">\n",
       "      <th></th>\n",
       "      <th>weekly_sales</th>\n",
       "      <th>holiday_flag</th>\n",
       "      <th>temperature</th>\n",
       "      <th>fuel_price</th>\n",
       "      <th>cpi</th>\n",
       "      <th>unemployment</th>\n",
       "      <th>month</th>\n",
       "      <th>day</th>\n",
       "      <th>year</th>\n",
       "    </tr>\n",
       "  </thead>\n",
       "  <tbody>\n",
       "    <tr>\n",
       "      <th>weekly_sales</th>\n",
       "      <td>1.000000</td>\n",
       "      <td>0.036891</td>\n",
       "      <td>-0.063810</td>\n",
       "      <td>0.009464</td>\n",
       "      <td>-0.072634</td>\n",
       "      <td>-0.106176</td>\n",
       "      <td>0.076143</td>\n",
       "      <td>-0.017409</td>\n",
       "      <td>-0.018378</td>\n",
       "    </tr>\n",
       "    <tr>\n",
       "      <th>holiday_flag</th>\n",
       "      <td>0.036891</td>\n",
       "      <td>1.000000</td>\n",
       "      <td>-0.155091</td>\n",
       "      <td>-0.078347</td>\n",
       "      <td>-0.002162</td>\n",
       "      <td>0.010960</td>\n",
       "      <td>0.122996</td>\n",
       "      <td>0.044526</td>\n",
       "      <td>-0.056783</td>\n",
       "    </tr>\n",
       "    <tr>\n",
       "      <th>temperature</th>\n",
       "      <td>-0.063810</td>\n",
       "      <td>-0.155091</td>\n",
       "      <td>1.000000</td>\n",
       "      <td>0.144982</td>\n",
       "      <td>0.176888</td>\n",
       "      <td>0.101158</td>\n",
       "      <td>0.235862</td>\n",
       "      <td>0.026973</td>\n",
       "      <td>0.064269</td>\n",
       "    </tr>\n",
       "    <tr>\n",
       "      <th>fuel_price</th>\n",
       "      <td>0.009464</td>\n",
       "      <td>-0.078347</td>\n",
       "      <td>0.144982</td>\n",
       "      <td>1.000000</td>\n",
       "      <td>-0.170642</td>\n",
       "      <td>-0.034684</td>\n",
       "      <td>-0.042156</td>\n",
       "      <td>0.028073</td>\n",
       "      <td>0.779470</td>\n",
       "    </tr>\n",
       "    <tr>\n",
       "      <th>cpi</th>\n",
       "      <td>-0.072634</td>\n",
       "      <td>-0.002162</td>\n",
       "      <td>0.176888</td>\n",
       "      <td>-0.170642</td>\n",
       "      <td>1.000000</td>\n",
       "      <td>-0.302020</td>\n",
       "      <td>0.004980</td>\n",
       "      <td>0.002684</td>\n",
       "      <td>0.074796</td>\n",
       "    </tr>\n",
       "    <tr>\n",
       "      <th>unemployment</th>\n",
       "      <td>-0.106176</td>\n",
       "      <td>0.010960</td>\n",
       "      <td>0.101158</td>\n",
       "      <td>-0.034684</td>\n",
       "      <td>-0.302020</td>\n",
       "      <td>1.000000</td>\n",
       "      <td>-0.012746</td>\n",
       "      <td>-0.004233</td>\n",
       "      <td>-0.241813</td>\n",
       "    </tr>\n",
       "    <tr>\n",
       "      <th>month</th>\n",
       "      <td>0.076143</td>\n",
       "      <td>0.122996</td>\n",
       "      <td>0.235862</td>\n",
       "      <td>-0.042156</td>\n",
       "      <td>0.004980</td>\n",
       "      <td>-0.012746</td>\n",
       "      <td>1.000000</td>\n",
       "      <td>0.015192</td>\n",
       "      <td>-0.194465</td>\n",
       "    </tr>\n",
       "    <tr>\n",
       "      <th>day</th>\n",
       "      <td>-0.017409</td>\n",
       "      <td>0.044526</td>\n",
       "      <td>0.026973</td>\n",
       "      <td>0.028073</td>\n",
       "      <td>0.002684</td>\n",
       "      <td>-0.004233</td>\n",
       "      <td>0.015192</td>\n",
       "      <td>1.000000</td>\n",
       "      <td>0.006406</td>\n",
       "    </tr>\n",
       "    <tr>\n",
       "      <th>year</th>\n",
       "      <td>-0.018378</td>\n",
       "      <td>-0.056783</td>\n",
       "      <td>0.064269</td>\n",
       "      <td>0.779470</td>\n",
       "      <td>0.074796</td>\n",
       "      <td>-0.241813</td>\n",
       "      <td>-0.194465</td>\n",
       "      <td>0.006406</td>\n",
       "      <td>1.000000</td>\n",
       "    </tr>\n",
       "  </tbody>\n",
       "</table>\n",
       "</div>"
      ],
      "text/plain": [
       "              weekly_sales  holiday_flag  temperature  fuel_price       cpi  \\\n",
       "weekly_sales      1.000000      0.036891    -0.063810    0.009464 -0.072634   \n",
       "holiday_flag      0.036891      1.000000    -0.155091   -0.078347 -0.002162   \n",
       "temperature      -0.063810     -0.155091     1.000000    0.144982  0.176888   \n",
       "fuel_price        0.009464     -0.078347     0.144982    1.000000 -0.170642   \n",
       "cpi              -0.072634     -0.002162     0.176888   -0.170642  1.000000   \n",
       "unemployment     -0.106176      0.010960     0.101158   -0.034684 -0.302020   \n",
       "month             0.076143      0.122996     0.235862   -0.042156  0.004980   \n",
       "day              -0.017409      0.044526     0.026973    0.028073  0.002684   \n",
       "year             -0.018378     -0.056783     0.064269    0.779470  0.074796   \n",
       "\n",
       "              unemployment     month       day      year  \n",
       "weekly_sales     -0.106176  0.076143 -0.017409 -0.018378  \n",
       "holiday_flag      0.010960  0.122996  0.044526 -0.056783  \n",
       "temperature       0.101158  0.235862  0.026973  0.064269  \n",
       "fuel_price       -0.034684 -0.042156  0.028073  0.779470  \n",
       "cpi              -0.302020  0.004980  0.002684  0.074796  \n",
       "unemployment      1.000000 -0.012746 -0.004233 -0.241813  \n",
       "month            -0.012746  1.000000  0.015192 -0.194465  \n",
       "day              -0.004233  0.015192  1.000000  0.006406  \n",
       "year             -0.241813 -0.194465  0.006406  1.000000  "
      ]
     },
     "execution_count": 27,
     "metadata": {},
     "output_type": "execute_result"
    }
   ],
   "source": [
    "corr_matrix"
   ]
  },
  {
   "cell_type": "markdown",
   "id": "ac6c80d5",
   "metadata": {
    "papermill": {
     "duration": 0.028595,
     "end_time": "2024-08-07T21:07:29.989893",
     "exception": false,
     "start_time": "2024-08-07T21:07:29.961298",
     "status": "completed"
    },
    "tags": []
   },
   "source": [
    "# Part 2: Revenue Prediction\n",
    "The revenue prediction part will focus on building a predictive model to forecast future sales. The goal is to provide accurate revenue predictions to aid in inventory management, staffing, and promotional planning.\n",
    "\n",
    "Steps\n",
    "1. Data Preprocessing:\n",
    "\n",
    "    Handle missing values and anomalies.\n",
    "    Normalize or standardize numerical variables.\n",
    "    Encode categorical variables if necessary.\n",
    "    \n",
    "2. Feature Engineering:\n",
    "\n",
    "      Identify and select the most relevant features for prediction.\n",
    "      Dimensionality Reduction.\n",
    "\n",
    "3. Model Selection:\n",
    "\n",
    "    Choose appropriate regression models for revenue prediction (e.g., Linear Regression, Random Forest, Gradient Boosting, Neural Networks).\n",
    "    Split the data into training and testing sets to evaluate model performance.\n",
    "\n",
    "4. Model Training and Evaluation:\n",
    "\n",
    "    Train the selected models using the training dataset.\n",
    "    Evaluate model performance using appropriate metrics (e.g., RMSE, MAE, R^2).\n",
    "    Perform hyperparameter tuning to optimize model performance."
   ]
  },
  {
   "cell_type": "code",
   "execution_count": 28,
   "id": "f7c3a9a3",
   "metadata": {
    "execution": {
     "iopub.execute_input": "2024-08-07T21:07:30.050422Z",
     "iopub.status.busy": "2024-08-07T21:07:30.049978Z",
     "iopub.status.idle": "2024-08-07T21:07:30.742003Z",
     "shell.execute_reply": "2024-08-07T21:07:30.740371Z"
    },
    "papermill": {
     "duration": 0.725251,
     "end_time": "2024-08-07T21:07:30.744979",
     "exception": false,
     "start_time": "2024-08-07T21:07:30.019728",
     "status": "completed"
    },
    "tags": []
   },
   "outputs": [],
   "source": [
    "from scipy import stats\n",
    "from sklearn.model_selection import train_test_split\n",
    "from sklearn.ensemble import RandomForestRegressor\n",
    "from sklearn.metrics import mean_squared_error, r2_score\n",
    "from sklearn.preprocessing import StandardScaler, OneHotEncoder"
   ]
  },
  {
   "cell_type": "markdown",
   "id": "256b0edd",
   "metadata": {
    "papermill": {
     "duration": 0.028682,
     "end_time": "2024-08-07T21:07:30.803047",
     "exception": false,
     "start_time": "2024-08-07T21:07:30.774365",
     "status": "completed"
    },
    "tags": []
   },
   "source": [
    "## Outlier detection and removal using z-scores."
   ]
  },
  {
   "cell_type": "code",
   "execution_count": 29,
   "id": "4e904369",
   "metadata": {
    "execution": {
     "iopub.execute_input": "2024-08-07T21:07:30.864704Z",
     "iopub.status.busy": "2024-08-07T21:07:30.864238Z",
     "iopub.status.idle": "2024-08-07T21:07:30.875397Z",
     "shell.execute_reply": "2024-08-07T21:07:30.874120Z"
    },
    "papermill": {
     "duration": 0.045032,
     "end_time": "2024-08-07T21:07:30.878201",
     "exception": false,
     "start_time": "2024-08-07T21:07:30.833169",
     "status": "completed"
    },
    "tags": []
   },
   "outputs": [
    {
     "data": {
      "text/plain": [
       "(6435, 13)"
      ]
     },
     "execution_count": 29,
     "metadata": {},
     "output_type": "execute_result"
    }
   ],
   "source": [
    "df['z_score'] = np.abs(stats.zscore(df['weekly_sales']))\n",
    "df.shape"
   ]
  },
  {
   "cell_type": "code",
   "execution_count": 30,
   "id": "b3bddd78",
   "metadata": {
    "execution": {
     "iopub.execute_input": "2024-08-07T21:07:30.938003Z",
     "iopub.status.busy": "2024-08-07T21:07:30.937537Z",
     "iopub.status.idle": "2024-08-07T21:07:30.950069Z",
     "shell.execute_reply": "2024-08-07T21:07:30.948833Z"
    },
    "papermill": {
     "duration": 0.045411,
     "end_time": "2024-08-07T21:07:30.952661",
     "exception": false,
     "start_time": "2024-08-07T21:07:30.907250",
     "status": "completed"
    },
    "tags": []
   },
   "outputs": [
    {
     "data": {
      "text/plain": [
       "(6404, 12)"
      ]
     },
     "execution_count": 30,
     "metadata": {},
     "output_type": "execute_result"
    }
   ],
   "source": [
    "thresh = 3\n",
    "df_clean = df[df['z_score'] < thresh]\n",
    "df_clean = df_clean.drop('z_score', axis = 1)\n",
    "df_clean.shape"
   ]
  },
  {
   "cell_type": "markdown",
   "id": "923c3ab9",
   "metadata": {
    "papermill": {
     "duration": 0.028989,
     "end_time": "2024-08-07T21:07:31.011117",
     "exception": false,
     "start_time": "2024-08-07T21:07:30.982128",
     "status": "completed"
    },
    "tags": []
   },
   "source": [
    "## Standardizing the data(Scaling and One hot encoding)."
   ]
  },
  {
   "cell_type": "code",
   "execution_count": 31,
   "id": "1426c857",
   "metadata": {
    "execution": {
     "iopub.execute_input": "2024-08-07T21:07:31.073042Z",
     "iopub.status.busy": "2024-08-07T21:07:31.072583Z",
     "iopub.status.idle": "2024-08-07T21:07:31.080584Z",
     "shell.execute_reply": "2024-08-07T21:07:31.079344Z"
    },
    "papermill": {
     "duration": 0.042154,
     "end_time": "2024-08-07T21:07:31.083563",
     "exception": false,
     "start_time": "2024-08-07T21:07:31.041409",
     "status": "completed"
    },
    "tags": []
   },
   "outputs": [],
   "source": [
    "df_clean = df_clean.drop('date', axis = 1)"
   ]
  },
  {
   "cell_type": "code",
   "execution_count": 32,
   "id": "be90ecf4",
   "metadata": {
    "execution": {
     "iopub.execute_input": "2024-08-07T21:07:31.144740Z",
     "iopub.status.busy": "2024-08-07T21:07:31.143843Z",
     "iopub.status.idle": "2024-08-07T21:07:31.160064Z",
     "shell.execute_reply": "2024-08-07T21:07:31.158758Z"
    },
    "papermill": {
     "duration": 0.05,
     "end_time": "2024-08-07T21:07:31.162912",
     "exception": false,
     "start_time": "2024-08-07T21:07:31.112912",
     "status": "completed"
    },
    "tags": []
   },
   "outputs": [
    {
     "name": "stdout",
     "output_type": "stream",
     "text": [
      "<class 'pandas.core.frame.DataFrame'>\n",
      "Index: 6404 entries, 0 to 6434\n",
      "Data columns (total 11 columns):\n",
      " #   Column        Non-Null Count  Dtype  \n",
      "---  ------        --------------  -----  \n",
      " 0   store         6404 non-null   int64  \n",
      " 1   weekly_sales  6404 non-null   float64\n",
      " 2   holiday_flag  6404 non-null   int64  \n",
      " 3   temperature   6404 non-null   float64\n",
      " 4   fuel_price    6404 non-null   float64\n",
      " 5   cpi           6404 non-null   float64\n",
      " 6   unemployment  6404 non-null   float64\n",
      " 7   day           6404 non-null   int32  \n",
      " 8   month         6404 non-null   int32  \n",
      " 9   year          6404 non-null   int32  \n",
      " 10  season        6404 non-null   object \n",
      "dtypes: float64(5), int32(3), int64(2), object(1)\n",
      "memory usage: 525.3+ KB\n"
     ]
    }
   ],
   "source": [
    "df_clean.info()"
   ]
  },
  {
   "cell_type": "code",
   "execution_count": 33,
   "id": "3501fa18",
   "metadata": {
    "execution": {
     "iopub.execute_input": "2024-08-07T21:07:31.225227Z",
     "iopub.status.busy": "2024-08-07T21:07:31.224777Z",
     "iopub.status.idle": "2024-08-07T21:07:31.233461Z",
     "shell.execute_reply": "2024-08-07T21:07:31.232215Z"
    },
    "papermill": {
     "duration": 0.042881,
     "end_time": "2024-08-07T21:07:31.236021",
     "exception": false,
     "start_time": "2024-08-07T21:07:31.193140",
     "status": "completed"
    },
    "tags": []
   },
   "outputs": [
    {
     "data": {
      "text/plain": [
       "['season']"
      ]
     },
     "execution_count": 33,
     "metadata": {},
     "output_type": "execute_result"
    }
   ],
   "source": [
    "encoder = OneHotEncoder()\n",
    "categorical_columns = df_clean.select_dtypes(include=['object']).columns.tolist()\n",
    "categorical_columns"
   ]
  },
  {
   "cell_type": "code",
   "execution_count": 34,
   "id": "d8e1e388",
   "metadata": {
    "execution": {
     "iopub.execute_input": "2024-08-07T21:07:31.297185Z",
     "iopub.status.busy": "2024-08-07T21:07:31.296748Z",
     "iopub.status.idle": "2024-08-07T21:07:31.328159Z",
     "shell.execute_reply": "2024-08-07T21:07:31.326960Z"
    },
    "papermill": {
     "duration": 0.065123,
     "end_time": "2024-08-07T21:07:31.330778",
     "exception": false,
     "start_time": "2024-08-07T21:07:31.265655",
     "status": "completed"
    },
    "tags": []
   },
   "outputs": [
    {
     "data": {
      "text/html": [
       "<div>\n",
       "<style scoped>\n",
       "    .dataframe tbody tr th:only-of-type {\n",
       "        vertical-align: middle;\n",
       "    }\n",
       "\n",
       "    .dataframe tbody tr th {\n",
       "        vertical-align: top;\n",
       "    }\n",
       "\n",
       "    .dataframe thead th {\n",
       "        text-align: right;\n",
       "    }\n",
       "</style>\n",
       "<table border=\"1\" class=\"dataframe\">\n",
       "  <thead>\n",
       "    <tr style=\"text-align: right;\">\n",
       "      <th></th>\n",
       "      <th>season_Fall</th>\n",
       "      <th>season_Spring</th>\n",
       "      <th>season_Summer</th>\n",
       "      <th>season_Winter</th>\n",
       "    </tr>\n",
       "  </thead>\n",
       "  <tbody>\n",
       "    <tr>\n",
       "      <th>0</th>\n",
       "      <td>0.0</td>\n",
       "      <td>0.0</td>\n",
       "      <td>0.0</td>\n",
       "      <td>1.0</td>\n",
       "    </tr>\n",
       "    <tr>\n",
       "      <th>1</th>\n",
       "      <td>0.0</td>\n",
       "      <td>0.0</td>\n",
       "      <td>0.0</td>\n",
       "      <td>1.0</td>\n",
       "    </tr>\n",
       "    <tr>\n",
       "      <th>2</th>\n",
       "      <td>0.0</td>\n",
       "      <td>0.0</td>\n",
       "      <td>0.0</td>\n",
       "      <td>1.0</td>\n",
       "    </tr>\n",
       "    <tr>\n",
       "      <th>3</th>\n",
       "      <td>0.0</td>\n",
       "      <td>0.0</td>\n",
       "      <td>0.0</td>\n",
       "      <td>1.0</td>\n",
       "    </tr>\n",
       "    <tr>\n",
       "      <th>4</th>\n",
       "      <td>0.0</td>\n",
       "      <td>1.0</td>\n",
       "      <td>0.0</td>\n",
       "      <td>0.0</td>\n",
       "    </tr>\n",
       "    <tr>\n",
       "      <th>...</th>\n",
       "      <td>...</td>\n",
       "      <td>...</td>\n",
       "      <td>...</td>\n",
       "      <td>...</td>\n",
       "    </tr>\n",
       "    <tr>\n",
       "      <th>6399</th>\n",
       "      <td>1.0</td>\n",
       "      <td>0.0</td>\n",
       "      <td>0.0</td>\n",
       "      <td>0.0</td>\n",
       "    </tr>\n",
       "    <tr>\n",
       "      <th>6400</th>\n",
       "      <td>1.0</td>\n",
       "      <td>0.0</td>\n",
       "      <td>0.0</td>\n",
       "      <td>0.0</td>\n",
       "    </tr>\n",
       "    <tr>\n",
       "      <th>6401</th>\n",
       "      <td>1.0</td>\n",
       "      <td>0.0</td>\n",
       "      <td>0.0</td>\n",
       "      <td>0.0</td>\n",
       "    </tr>\n",
       "    <tr>\n",
       "      <th>6402</th>\n",
       "      <td>1.0</td>\n",
       "      <td>0.0</td>\n",
       "      <td>0.0</td>\n",
       "      <td>0.0</td>\n",
       "    </tr>\n",
       "    <tr>\n",
       "      <th>6403</th>\n",
       "      <td>1.0</td>\n",
       "      <td>0.0</td>\n",
       "      <td>0.0</td>\n",
       "      <td>0.0</td>\n",
       "    </tr>\n",
       "  </tbody>\n",
       "</table>\n",
       "<p>6404 rows × 4 columns</p>\n",
       "</div>"
      ],
      "text/plain": [
       "      season_Fall  season_Spring  season_Summer  season_Winter\n",
       "0             0.0            0.0            0.0            1.0\n",
       "1             0.0            0.0            0.0            1.0\n",
       "2             0.0            0.0            0.0            1.0\n",
       "3             0.0            0.0            0.0            1.0\n",
       "4             0.0            1.0            0.0            0.0\n",
       "...           ...            ...            ...            ...\n",
       "6399          1.0            0.0            0.0            0.0\n",
       "6400          1.0            0.0            0.0            0.0\n",
       "6401          1.0            0.0            0.0            0.0\n",
       "6402          1.0            0.0            0.0            0.0\n",
       "6403          1.0            0.0            0.0            0.0\n",
       "\n",
       "[6404 rows x 4 columns]"
      ]
     },
     "execution_count": 34,
     "metadata": {},
     "output_type": "execute_result"
    }
   ],
   "source": [
    "data_encoded = encoder.fit_transform(df_clean[categorical_columns]).toarray()\n",
    "columns=encoder.get_feature_names_out(categorical_columns)\n",
    "df_encoded = pd.DataFrame(data_encoded, columns = columns)\n",
    "df_encoded"
   ]
  },
  {
   "cell_type": "code",
   "execution_count": 35,
   "id": "1d6e8052",
   "metadata": {
    "execution": {
     "iopub.execute_input": "2024-08-07T21:07:31.394185Z",
     "iopub.status.busy": "2024-08-07T21:07:31.393267Z",
     "iopub.status.idle": "2024-08-07T21:07:31.405629Z",
     "shell.execute_reply": "2024-08-07T21:07:31.404310Z"
    },
    "papermill": {
     "duration": 0.047585,
     "end_time": "2024-08-07T21:07:31.408450",
     "exception": false,
     "start_time": "2024-08-07T21:07:31.360865",
     "status": "completed"
    },
    "tags": []
   },
   "outputs": [],
   "source": [
    "df_clean_encoded = pd.concat([df_clean, df_encoded], axis = 1)\n",
    "df_clean_encoded = df_clean_encoded.drop('season', axis = 1)\n",
    "df_clean_encoded.dropna(inplace = True)"
   ]
  },
  {
   "cell_type": "code",
   "execution_count": 36,
   "id": "52b4fac3",
   "metadata": {
    "execution": {
     "iopub.execute_input": "2024-08-07T21:07:31.471734Z",
     "iopub.status.busy": "2024-08-07T21:07:31.471291Z",
     "iopub.status.idle": "2024-08-07T21:07:31.504368Z",
     "shell.execute_reply": "2024-08-07T21:07:31.503154Z"
    },
    "papermill": {
     "duration": 0.067815,
     "end_time": "2024-08-07T21:07:31.507046",
     "exception": false,
     "start_time": "2024-08-07T21:07:31.439231",
     "status": "completed"
    },
    "tags": []
   },
   "outputs": [
    {
     "data": {
      "text/html": [
       "<div>\n",
       "<style scoped>\n",
       "    .dataframe tbody tr th:only-of-type {\n",
       "        vertical-align: middle;\n",
       "    }\n",
       "\n",
       "    .dataframe tbody tr th {\n",
       "        vertical-align: top;\n",
       "    }\n",
       "\n",
       "    .dataframe thead th {\n",
       "        text-align: right;\n",
       "    }\n",
       "</style>\n",
       "<table border=\"1\" class=\"dataframe\">\n",
       "  <thead>\n",
       "    <tr style=\"text-align: right;\">\n",
       "      <th></th>\n",
       "      <th>store</th>\n",
       "      <th>weekly_sales</th>\n",
       "      <th>holiday_flag</th>\n",
       "      <th>temperature</th>\n",
       "      <th>fuel_price</th>\n",
       "      <th>cpi</th>\n",
       "      <th>unemployment</th>\n",
       "      <th>day</th>\n",
       "      <th>month</th>\n",
       "      <th>year</th>\n",
       "      <th>season_Fall</th>\n",
       "      <th>season_Spring</th>\n",
       "      <th>season_Summer</th>\n",
       "      <th>season_Winter</th>\n",
       "    </tr>\n",
       "  </thead>\n",
       "  <tbody>\n",
       "    <tr>\n",
       "      <th>0</th>\n",
       "      <td>-1.697261</td>\n",
       "      <td>1.106336</td>\n",
       "      <td>-0.272326</td>\n",
       "      <td>-0.998634</td>\n",
       "      <td>-1.709338</td>\n",
       "      <td>1.003215</td>\n",
       "      <td>0.057012</td>\n",
       "      <td>-1.215034</td>\n",
       "      <td>-1.368621</td>\n",
       "      <td>-1.209504</td>\n",
       "      <td>-0.559892</td>\n",
       "      <td>-0.613562</td>\n",
       "      <td>-0.625202</td>\n",
       "      <td>1.958407</td>\n",
       "    </tr>\n",
       "    <tr>\n",
       "      <th>1</th>\n",
       "      <td>-1.697261</td>\n",
       "      <td>1.103168</td>\n",
       "      <td>3.672069</td>\n",
       "      <td>-1.204641</td>\n",
       "      <td>-1.761577</td>\n",
       "      <td>1.006913</td>\n",
       "      <td>0.057012</td>\n",
       "      <td>-0.415968</td>\n",
       "      <td>-1.368621</td>\n",
       "      <td>-1.209504</td>\n",
       "      <td>-0.559892</td>\n",
       "      <td>-0.613562</td>\n",
       "      <td>-0.625202</td>\n",
       "      <td>1.958407</td>\n",
       "    </tr>\n",
       "    <tr>\n",
       "      <th>2</th>\n",
       "      <td>-1.697261</td>\n",
       "      <td>1.048368</td>\n",
       "      <td>-0.272326</td>\n",
       "      <td>-1.127659</td>\n",
       "      <td>-1.835582</td>\n",
       "      <td>1.008104</td>\n",
       "      <td>0.057012</td>\n",
       "      <td>0.383099</td>\n",
       "      <td>-1.368621</td>\n",
       "      <td>-1.209504</td>\n",
       "      <td>-0.559892</td>\n",
       "      <td>-0.613562</td>\n",
       "      <td>-0.625202</td>\n",
       "      <td>1.958407</td>\n",
       "    </tr>\n",
       "    <tr>\n",
       "      <th>3</th>\n",
       "      <td>-1.697261</td>\n",
       "      <td>0.678808</td>\n",
       "      <td>-0.272326</td>\n",
       "      <td>-0.764437</td>\n",
       "      <td>-1.733281</td>\n",
       "      <td>1.008878</td>\n",
       "      <td>0.057012</td>\n",
       "      <td>1.182166</td>\n",
       "      <td>-1.368621</td>\n",
       "      <td>-1.209504</td>\n",
       "      <td>-0.559892</td>\n",
       "      <td>-0.613562</td>\n",
       "      <td>-0.625202</td>\n",
       "      <td>1.958407</td>\n",
       "    </tr>\n",
       "    <tr>\n",
       "      <th>4</th>\n",
       "      <td>-1.697261</td>\n",
       "      <td>0.943915</td>\n",
       "      <td>-0.272326</td>\n",
       "      <td>-0.771484</td>\n",
       "      <td>-1.593977</td>\n",
       "      <td>1.009651</td>\n",
       "      <td>0.057012</td>\n",
       "      <td>-1.215034</td>\n",
       "      <td>-1.058971</td>\n",
       "      <td>-1.209504</td>\n",
       "      <td>-0.559892</td>\n",
       "      <td>1.629828</td>\n",
       "      <td>-0.625202</td>\n",
       "      <td>-0.510619</td>\n",
       "    </tr>\n",
       "    <tr>\n",
       "      <th>...</th>\n",
       "      <td>...</td>\n",
       "      <td>...</td>\n",
       "      <td>...</td>\n",
       "      <td>...</td>\n",
       "      <td>...</td>\n",
       "      <td>...</td>\n",
       "      <td>...</td>\n",
       "      <td>...</td>\n",
       "      <td>...</td>\n",
       "      <td>...</td>\n",
       "      <td>...</td>\n",
       "      <td>...</td>\n",
       "      <td>...</td>\n",
       "      <td>...</td>\n",
       "    </tr>\n",
       "    <tr>\n",
       "      <th>6368</th>\n",
       "      <td>1.705707</td>\n",
       "      <td>-0.521136</td>\n",
       "      <td>-0.272326</td>\n",
       "      <td>-0.968817</td>\n",
       "      <td>0.830778</td>\n",
       "      <td>0.468325</td>\n",
       "      <td>0.225934</td>\n",
       "      <td>0.953861</td>\n",
       "      <td>-1.368621</td>\n",
       "      <td>1.303346</td>\n",
       "      <td>1.786059</td>\n",
       "      <td>-0.613562</td>\n",
       "      <td>-0.625202</td>\n",
       "      <td>-0.510619</td>\n",
       "    </tr>\n",
       "    <tr>\n",
       "      <th>6369</th>\n",
       "      <td>1.705707</td>\n",
       "      <td>-0.466800</td>\n",
       "      <td>-0.272326</td>\n",
       "      <td>-1.039835</td>\n",
       "      <td>0.998378</td>\n",
       "      <td>0.472497</td>\n",
       "      <td>0.225934</td>\n",
       "      <td>-1.557492</td>\n",
       "      <td>-1.058971</td>\n",
       "      <td>1.303346</td>\n",
       "      <td>1.786059</td>\n",
       "      <td>-0.613562</td>\n",
       "      <td>-0.625202</td>\n",
       "      <td>-0.510619</td>\n",
       "    </tr>\n",
       "    <tr>\n",
       "      <th>6370</th>\n",
       "      <td>1.705707</td>\n",
       "      <td>-0.477448</td>\n",
       "      <td>-0.272326</td>\n",
       "      <td>-0.824612</td>\n",
       "      <td>1.068030</td>\n",
       "      <td>0.476669</td>\n",
       "      <td>0.225934</td>\n",
       "      <td>-0.758425</td>\n",
       "      <td>-1.058971</td>\n",
       "      <td>1.303346</td>\n",
       "      <td>1.786059</td>\n",
       "      <td>-0.613562</td>\n",
       "      <td>-0.625202</td>\n",
       "      <td>-0.510619</td>\n",
       "    </tr>\n",
       "    <tr>\n",
       "      <th>6371</th>\n",
       "      <td>1.705707</td>\n",
       "      <td>-0.456669</td>\n",
       "      <td>-0.272326</td>\n",
       "      <td>-0.551382</td>\n",
       "      <td>1.098502</td>\n",
       "      <td>0.479863</td>\n",
       "      <td>0.225934</td>\n",
       "      <td>0.040642</td>\n",
       "      <td>-1.058971</td>\n",
       "      <td>1.303346</td>\n",
       "      <td>1.786059</td>\n",
       "      <td>-0.613562</td>\n",
       "      <td>-0.625202</td>\n",
       "      <td>-0.510619</td>\n",
       "    </tr>\n",
       "    <tr>\n",
       "      <th>6372</th>\n",
       "      <td>1.705707</td>\n",
       "      <td>-0.450282</td>\n",
       "      <td>-0.272326</td>\n",
       "      <td>-0.069434</td>\n",
       "      <td>1.181214</td>\n",
       "      <td>0.481750</td>\n",
       "      <td>0.225934</td>\n",
       "      <td>0.839709</td>\n",
       "      <td>-1.058971</td>\n",
       "      <td>1.303346</td>\n",
       "      <td>1.786059</td>\n",
       "      <td>-0.613562</td>\n",
       "      <td>-0.625202</td>\n",
       "      <td>-0.510619</td>\n",
       "    </tr>\n",
       "  </tbody>\n",
       "</table>\n",
       "<p>6373 rows × 14 columns</p>\n",
       "</div>"
      ],
      "text/plain": [
       "         store  weekly_sales  holiday_flag  temperature  fuel_price       cpi  \\\n",
       "0    -1.697261      1.106336     -0.272326    -0.998634   -1.709338  1.003215   \n",
       "1    -1.697261      1.103168      3.672069    -1.204641   -1.761577  1.006913   \n",
       "2    -1.697261      1.048368     -0.272326    -1.127659   -1.835582  1.008104   \n",
       "3    -1.697261      0.678808     -0.272326    -0.764437   -1.733281  1.008878   \n",
       "4    -1.697261      0.943915     -0.272326    -0.771484   -1.593977  1.009651   \n",
       "...        ...           ...           ...          ...         ...       ...   \n",
       "6368  1.705707     -0.521136     -0.272326    -0.968817    0.830778  0.468325   \n",
       "6369  1.705707     -0.466800     -0.272326    -1.039835    0.998378  0.472497   \n",
       "6370  1.705707     -0.477448     -0.272326    -0.824612    1.068030  0.476669   \n",
       "6371  1.705707     -0.456669     -0.272326    -0.551382    1.098502  0.479863   \n",
       "6372  1.705707     -0.450282     -0.272326    -0.069434    1.181214  0.481750   \n",
       "\n",
       "      unemployment       day     month      year  season_Fall  season_Spring  \\\n",
       "0         0.057012 -1.215034 -1.368621 -1.209504    -0.559892      -0.613562   \n",
       "1         0.057012 -0.415968 -1.368621 -1.209504    -0.559892      -0.613562   \n",
       "2         0.057012  0.383099 -1.368621 -1.209504    -0.559892      -0.613562   \n",
       "3         0.057012  1.182166 -1.368621 -1.209504    -0.559892      -0.613562   \n",
       "4         0.057012 -1.215034 -1.058971 -1.209504    -0.559892       1.629828   \n",
       "...            ...       ...       ...       ...          ...            ...   \n",
       "6368      0.225934  0.953861 -1.368621  1.303346     1.786059      -0.613562   \n",
       "6369      0.225934 -1.557492 -1.058971  1.303346     1.786059      -0.613562   \n",
       "6370      0.225934 -0.758425 -1.058971  1.303346     1.786059      -0.613562   \n",
       "6371      0.225934  0.040642 -1.058971  1.303346     1.786059      -0.613562   \n",
       "6372      0.225934  0.839709 -1.058971  1.303346     1.786059      -0.613562   \n",
       "\n",
       "      season_Summer  season_Winter  \n",
       "0         -0.625202       1.958407  \n",
       "1         -0.625202       1.958407  \n",
       "2         -0.625202       1.958407  \n",
       "3         -0.625202       1.958407  \n",
       "4         -0.625202      -0.510619  \n",
       "...             ...            ...  \n",
       "6368      -0.625202      -0.510619  \n",
       "6369      -0.625202      -0.510619  \n",
       "6370      -0.625202      -0.510619  \n",
       "6371      -0.625202      -0.510619  \n",
       "6372      -0.625202      -0.510619  \n",
       "\n",
       "[6373 rows x 14 columns]"
      ]
     },
     "execution_count": 36,
     "metadata": {},
     "output_type": "execute_result"
    }
   ],
   "source": [
    "scaler = StandardScaler()\n",
    "columns = df_clean_encoded.columns\n",
    "data_scaled = scaler.fit_transform(df_clean_encoded)\n",
    "df_scaled = pd.DataFrame(data_scaled, columns = columns)\n",
    "df_scaled"
   ]
  },
  {
   "cell_type": "markdown",
   "id": "2ddc0a41",
   "metadata": {
    "papermill": {
     "duration": 0.030493,
     "end_time": "2024-08-07T21:07:31.570135",
     "exception": false,
     "start_time": "2024-08-07T21:07:31.539642",
     "status": "completed"
    },
    "tags": []
   },
   "source": [
    "## Dimensionality Reduction."
   ]
  },
  {
   "cell_type": "code",
   "execution_count": 37,
   "id": "508dd712",
   "metadata": {
    "execution": {
     "iopub.execute_input": "2024-08-07T21:07:31.634281Z",
     "iopub.status.busy": "2024-08-07T21:07:31.633808Z",
     "iopub.status.idle": "2024-08-07T21:07:32.120683Z",
     "shell.execute_reply": "2024-08-07T21:07:32.119472Z"
    },
    "papermill": {
     "duration": 0.521757,
     "end_time": "2024-08-07T21:07:32.123356",
     "exception": false,
     "start_time": "2024-08-07T21:07:31.601599",
     "status": "completed"
    },
    "tags": []
   },
   "outputs": [
    {
     "data": {
      "text/plain": [
       "<Axes: >"
      ]
     },
     "execution_count": 37,
     "metadata": {},
     "output_type": "execute_result"
    },
    {
     "data": {
      "image/png": "[encoded data removed]",
      "text/plain": [
       "<Figure size 640x480 with 2 Axes>"
      ]
     },
     "metadata": {},
     "output_type": "display_data"
    }
   ],
   "source": [
    "sns.heatmap(data = df_scaled.drop('weekly_sales', axis = 1).corr())"
   ]
  },
  {
   "cell_type": "code",
   "execution_count": 38,
   "id": "6ab6df96",
   "metadata": {
    "execution": {
     "iopub.execute_input": "2024-08-07T21:07:32.190238Z",
     "iopub.status.busy": "2024-08-07T21:07:32.189788Z",
     "iopub.status.idle": "2024-08-07T21:07:32.197160Z",
     "shell.execute_reply": "2024-08-07T21:07:32.195744Z"
    },
    "papermill": {
     "duration": 0.043838,
     "end_time": "2024-08-07T21:07:32.199672",
     "exception": false,
     "start_time": "2024-08-07T21:07:32.155834",
     "status": "completed"
    },
    "tags": []
   },
   "outputs": [],
   "source": [
    "from sklearn.decomposition import PCA\n",
    "\n",
    "df_pca = df_scaled.drop('weekly_sales', axis = 1)"
   ]
  },
  {
   "cell_type": "code",
   "execution_count": 39,
   "id": "122ce6de",
   "metadata": {
    "execution": {
     "iopub.execute_input": "2024-08-07T21:07:32.266360Z",
     "iopub.status.busy": "2024-08-07T21:07:32.265888Z",
     "iopub.status.idle": "2024-08-07T21:07:32.774378Z",
     "shell.execute_reply": "2024-08-07T21:07:32.773281Z"
    },
    "papermill": {
     "duration": 0.545488,
     "end_time": "2024-08-07T21:07:32.777006",
     "exception": false,
     "start_time": "2024-08-07T21:07:32.231518",
     "status": "completed"
    },
    "tags": []
   },
   "outputs": [
    {
     "data": {
      "text/plain": [
       "1.0000000000000002"
      ]
     },
     "execution_count": 39,
     "metadata": {},
     "output_type": "execute_result"
    },
    {
     "data": {
      "image/png": "[encoded data removed]",
      "text/plain": [
       "<Figure size 640x480 with 2 Axes>"
      ]
     },
     "metadata": {},
     "output_type": "display_data"
    }
   ],
   "source": [
    "pca = PCA()\n",
    "\n",
    "reduced_data = pca.fit_transform(df_pca)\n",
    "\n",
    "df_reduced=pd.DataFrame(reduced_data)\n",
    "sns.heatmap(data = df_reduced.corr())\n",
    "\n",
    "explained_variance = pca.explained_variance_ratio_\n",
    "explained_variance.sum()"
   ]
  },
  {
   "cell_type": "markdown",
   "id": "98c33ed6",
   "metadata": {
    "papermill": {
     "duration": 0.032409,
     "end_time": "2024-08-07T21:07:32.841768",
     "exception": false,
     "start_time": "2024-08-07T21:07:32.809359",
     "status": "completed"
    },
    "tags": []
   },
   "source": [
    "## Splitting data."
   ]
  },
  {
   "cell_type": "code",
   "execution_count": 40,
   "id": "04601557",
   "metadata": {
    "execution": {
     "iopub.execute_input": "2024-08-07T21:07:32.908917Z",
     "iopub.status.busy": "2024-08-07T21:07:32.907918Z",
     "iopub.status.idle": "2024-08-07T21:07:32.917922Z",
     "shell.execute_reply": "2024-08-07T21:07:32.916763Z"
    },
    "papermill": {
     "duration": 0.046388,
     "end_time": "2024-08-07T21:07:32.920527",
     "exception": false,
     "start_time": "2024-08-07T21:07:32.874139",
     "status": "completed"
    },
    "tags": []
   },
   "outputs": [],
   "source": [
    "X = df_reduced\n",
    "Y = df_scaled['weekly_sales']\n",
    "\n",
    "x_train, x_test, y_train, y_test = train_test_split(X, Y, test_size = 0.3, random_state = 69)"
   ]
  },
  {
   "cell_type": "markdown",
   "id": "83d4b7ee",
   "metadata": {
    "papermill": {
     "duration": 0.03181,
     "end_time": "2024-08-07T21:07:32.984500",
     "exception": false,
     "start_time": "2024-08-07T21:07:32.952690",
     "status": "completed"
    },
    "tags": []
   },
   "source": [
    "## Model Training."
   ]
  },
  {
   "cell_type": "code",
   "execution_count": 41,
   "id": "69888f98",
   "metadata": {
    "execution": {
     "iopub.execute_input": "2024-08-07T21:07:33.052129Z",
     "iopub.status.busy": "2024-08-07T21:07:33.051016Z",
     "iopub.status.idle": "2024-08-07T21:07:38.224152Z",
     "shell.execute_reply": "2024-08-07T21:07:38.222739Z"
    },
    "papermill": {
     "duration": 5.209729,
     "end_time": "2024-08-07T21:07:38.226906",
     "exception": false,
     "start_time": "2024-08-07T21:07:33.017177",
     "status": "completed"
    },
    "tags": []
   },
   "outputs": [
    {
     "data": {
      "text/html": [
       "<style>#sk-container-id-1 {color: black;background-color: white;}#sk-container-id-1 pre{padding: 0;}#sk-container-id-1 div.sk-toggleable {background-color: white;}#sk-container-id-1 label.sk-toggleable__label {cursor: pointer;display: block;width: 100%;margin-bottom: 0;padding: 0.3em;box-sizing: border-box;text-align: center;}#sk-container-id-1 label.sk-toggleable__label-arrow:before {content: \"▸\";float: left;margin-right: 0.25em;color: #696969;}#sk-container-id-1 label.sk-toggleable__label-arrow:hover:before {color: black;}#sk-container-id-1 div.sk-estimator:hover label.sk-toggleable__label-arrow:before {color: black;}#sk-container-id-1 div.sk-toggleable__content {max-height: 0;max-width: 0;overflow: hidden;text-align: left;background-color: #f0f8ff;}#sk-container-id-1 div.sk-toggleable__content pre {margin: 0.2em;color: black;border-radius: 0.25em;background-color: #f0f8ff;}#sk-container-id-1 input.sk-toggleable__control:checked~div.sk-toggleable__content {max-height: 200px;max-width: 100%;overflow: auto;}#sk-container-id-1 input.sk-toggleable__control:checked~label.sk-toggleable__label-arrow:before {content: \"▾\";}#sk-container-id-1 div.sk-estimator input.sk-toggleable__control:checked~label.sk-toggleable__label {background-color: #d4ebff;}#sk-container-id-1 div.sk-label input.sk-toggleable__control:checked~label.sk-toggleable__label {background-color: #d4ebff;}#sk-container-id-1 input.sk-hidden--visually {border: 0;clip: rect(1px 1px 1px 1px);clip: rect(1px, 1px, 1px, 1px);height: 1px;margin: -1px;overflow: hidden;padding: 0;position: absolute;width: 1px;}#sk-container-id-1 div.sk-estimator {font-family: monospace;background-color: #f0f8ff;border: 1px dotted black;border-radius: 0.25em;box-sizing: border-box;margin-bottom: 0.5em;}#sk-container-id-1 div.sk-estimator:hover {background-color: #d4ebff;}#sk-container-id-1 div.sk-parallel-item::after {content: \"\";width: 100%;border-bottom: 1px solid gray;flex-grow: 1;}#sk-container-id-1 div.sk-label:hover label.sk-toggleable__label {background-color: #d4ebff;}#sk-container-id-1 div.sk-serial::before {content: \"\";position: absolute;border-left: 1px solid gray;box-sizing: border-box;top: 0;bottom: 0;left: 50%;z-index: 0;}#sk-container-id-1 div.sk-serial {display: flex;flex-direction: column;align-items: center;background-color: white;padding-right: 0.2em;padding-left: 0.2em;position: relative;}#sk-container-id-1 div.sk-item {position: relative;z-index: 1;}#sk-container-id-1 div.sk-parallel {display: flex;align-items: stretch;justify-content: center;background-color: white;position: relative;}#sk-container-id-1 div.sk-item::before, #sk-container-id-1 div.sk-parallel-item::before {content: \"\";position: absolute;border-left: 1px solid gray;box-sizing: border-box;top: 0;bottom: 0;left: 50%;z-index: -1;}#sk-container-id-1 div.sk-parallel-item {display: flex;flex-direction: column;z-index: 1;position: relative;background-color: white;}#sk-container-id-1 div.sk-parallel-item:first-child::after {align-self: flex-end;width: 50%;}#sk-container-id-1 div.sk-parallel-item:last-child::after {align-self: flex-start;width: 50%;}#sk-container-id-1 div.sk-parallel-item:only-child::after {width: 0;}#sk-container-id-1 div.sk-dashed-wrapped {border: 1px dashed gray;margin: 0 0.4em 0.5em 0.4em;box-sizing: border-box;padding-bottom: 0.4em;background-color: white;}#sk-container-id-1 div.sk-label label {font-family: monospace;font-weight: bold;display: inline-block;line-height: 1.2em;}#sk-container-id-1 div.sk-label-container {text-align: center;}#sk-container-id-1 div.sk-container {/* jupyter's `normalize.less` sets `[hidden] { display: none; }` but bootstrap.min.css set `[hidden] { display: none !important; }` so we also need the `!important` here to be able to override the default hidden behavior on the sphinx rendered scikit-learn.org. See: https://github.com/scikit-learn/scikit-learn/issues/21755 */display: inline-block !important;position: relative;}#sk-container-id-1 div.sk-text-repr-fallback {display: none;}</style><div id=\"sk-container-id-1\" class=\"sk-top-container\"><div class=\"sk-text-repr-fallback\"><pre>RandomForestRegressor(random_state=69)</pre><b>In a Jupyter environment, please rerun this cell to show the HTML representation or trust the notebook. <br />On GitHub, the HTML representation is unable to render, please try loading this page with nbviewer.org.</b></div><div class=\"sk-container\" hidden><div class=\"sk-item\"><div class=\"sk-estimator sk-toggleable\"><input class=\"sk-toggleable__control sk-hidden--visually\" id=\"sk-estimator-id-1\" type=\"checkbox\" checked><label for=\"sk-estimator-id-1\" class=\"sk-toggleable__label sk-toggleable__label-arrow\">RandomForestRegressor</label><div class=\"sk-toggleable__content\"><pre>RandomForestRegressor(random_state=69)</pre></div></div></div></div></div>"
      ],
      "text/plain": [
       "RandomForestRegressor(random_state=69)"
      ]
     },
     "execution_count": 41,
     "metadata": {},
     "output_type": "execute_result"
    }
   ],
   "source": [
    "model = RandomForestRegressor(n_estimators = 100, criterion = 'squared_error', random_state = 69)\n",
    "model.fit(x_train, y_train)"
   ]
  },
  {
   "cell_type": "code",
   "execution_count": 42,
   "id": "7f0497ae",
   "metadata": {
    "execution": {
     "iopub.execute_input": "2024-08-07T21:07:38.295415Z",
     "iopub.status.busy": "2024-08-07T21:07:38.294425Z",
     "iopub.status.idle": "2024-08-07T21:07:38.352715Z",
     "shell.execute_reply": "2024-08-07T21:07:38.351578Z"
    },
    "papermill": {
     "duration": 0.095785,
     "end_time": "2024-08-07T21:07:38.355684",
     "exception": false,
     "start_time": "2024-08-07T21:07:38.259899",
     "status": "completed"
    },
    "tags": []
   },
   "outputs": [],
   "source": [
    "y_pred = model.predict(x_test)"
   ]
  },
  {
   "cell_type": "markdown",
   "id": "8e3f641e",
   "metadata": {
    "papermill": {
     "duration": 0.032837,
     "end_time": "2024-08-07T21:07:38.422495",
     "exception": false,
     "start_time": "2024-08-07T21:07:38.389658",
     "status": "completed"
    },
    "tags": []
   },
   "source": [
    "## Evaluation of the model."
   ]
  },
  {
   "cell_type": "code",
   "execution_count": 43,
   "id": "d6483d0f",
   "metadata": {
    "execution": {
     "iopub.execute_input": "2024-08-07T21:07:38.491325Z",
     "iopub.status.busy": "2024-08-07T21:07:38.490885Z",
     "iopub.status.idle": "2024-08-07T21:07:38.499140Z",
     "shell.execute_reply": "2024-08-07T21:07:38.497932Z"
    },
    "papermill": {
     "duration": 0.045437,
     "end_time": "2024-08-07T21:07:38.501946",
     "exception": false,
     "start_time": "2024-08-07T21:07:38.456509",
     "status": "completed"
    },
    "tags": []
   },
   "outputs": [],
   "source": [
    "rmse = np.sqrt(mean_squared_error(y_test, y_pred))\n",
    "r2 = r2_score(y_test, y_pred)"
   ]
  },
  {
   "cell_type": "code",
   "execution_count": 44,
   "id": "2462dc94",
   "metadata": {
    "execution": {
     "iopub.execute_input": "2024-08-07T21:07:38.572169Z",
     "iopub.status.busy": "2024-08-07T21:07:38.571725Z",
     "iopub.status.idle": "2024-08-07T21:07:38.578276Z",
     "shell.execute_reply": "2024-08-07T21:07:38.576651Z"
    },
    "papermill": {
     "duration": 0.047479,
     "end_time": "2024-08-07T21:07:38.582501",
     "exception": false,
     "start_time": "2024-08-07T21:07:38.535022",
     "status": "completed"
    },
    "tags": []
   },
   "outputs": [
    {
     "name": "stdout",
     "output_type": "stream",
     "text": [
      "rmse: 0.603598882372728, r2: 0.6360979991669342\n"
     ]
    }
   ],
   "source": [
    "print(f'rmse: {rmse}, r2: {r2}')"
   ]
  },
  {
   "cell_type": "code",
   "execution_count": null,
   "id": "8396e233",
   "metadata": {
    "papermill": {
     "duration": 0.032529,
     "end_time": "2024-08-07T21:07:38.648423",
     "exception": false,
     "start_time": "2024-08-07T21:07:38.615894",
     "status": "completed"
    },
    "tags": []
   },
   "outputs": [],
   "source": []
  }
 ],
 "metadata": {
  "kaggle": {
   "accelerator": "none",
   "dataSources": [
    {
     "datasetId": 4438189,
     "sourceId": 8620416,
     "sourceType": "datasetVersion"
    }
   ],
   "dockerImageVersionId": 30746,
   "isGpuEnabled": false,
   "isInternetEnabled": true,
   "language": "python",
   "sourceType": "notebook"
  },
  "kernelspec": {
   "display_name": "Python 3",
   "language": "python",
   "name": "python3"
  },
  "language_info": {
   "codemirror_mode": {
    "name": "ipython",
    "version": 3
   },
   "file_extension": ".py",
   "mimetype": "text/x-python",
   "name": "python",
   "nbconvert_exporter": "python",
   "pygments_lexer": "ipython3",
   "version": "3.10.13"
  },
  "papermill": {
   "default_parameters": {},
   "duration": 24.074109,
   "end_time": "2024-08-07T21:07:39.405341",
   "environment_variables": {},
   "exception": null,
   "input_path": "__notebook__.ipynb",
   "output_path": "__notebook__.ipynb",
   "parameters": {},
   "start_time": "2024-08-07T21:07:15.331232",
   "version": "2.5.0"
  }
 },
 "nbformat": 4,
 "nbformat_minor": 5
}
